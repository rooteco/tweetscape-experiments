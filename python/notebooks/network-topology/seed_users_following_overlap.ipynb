{
 "cells": [
  {
   "cell_type": "markdown",
   "id": "e735e161-b801-42b5-88f2-6a988a08d7e8",
   "metadata": {},
   "source": [
    "## Find the shared Account network among the following the stream seeded accounts\n",
    "* how much overlap is there in the people followed by seed accounts? \n",
    "\n",
    "## Tweet Processing\n",
    "This uses utility code stored in `tweetscape-experiments/python/tweet_processing`\n",
    "This utility library will mold as we do more experiments.\n",
    "\n",
    "#### install \n",
    "install commands (assumgin you start from teh current directory)\n",
    "```\n",
    "cd ../../tweet_processing\n",
    "pip install -e .\n",
    "```\n",
    "\n",
    "#### Loading data \n",
    "\n",
    "Instantiate a StreamTweetProcessor object with the twarc client and your data_dir. \n",
    "\n",
    "The code for this is in the next cell\n",
    "\n",
    "@andre: Make sure you point the data_dir varialbe to whatever path you have the unzipped file I sent you\n",
    "The data dir is strucutred like this:\n",
    "```\n",
    "data/\n",
    "    group_name/\n",
    "        tweets.csv\n",
    "        ref_tweets.csv\n",
    "        following.csv\n",
    "    group_name2/\n",
    "        tweets.csv\n",
    "        ref_tweets.csv\n",
    "        following.csv\n",
    "```"
   ]
  },
  {
   "cell_type": "code",
   "execution_count": 1,
   "id": "e7dbbc55-06fe-4c1f-aa4b-4aa2625bd554",
   "metadata": {},
   "outputs": [],
   "source": [
    "import os\n",
    "from dotenv import load_dotenv\n",
    "import pandas as pd\n",
    "from twarc import Twarc2, expansions\n",
    "from minio import Minio\n",
    "from tweet_processing import StreamTweetProcessor\n",
    "\n",
    "load_dotenv()\n",
    "\n",
    "twarc_client = Twarc2(\n",
    "    consumer_key=os.environ[\"consumer_key\"], \n",
    "    consumer_secret=os.environ[\"consumer_secret\"],\n",
    "    access_token=os.environ[\"access_token\"], \n",
    "    access_token_secret=os.environ[\"access_token_secret\"]\n",
    ")\n",
    "\n",
    "minio_client = Minio(\n",
    "    # 'experiment-data-minio.fly.dev:9000',\n",
    "    'localhost:9000',\n",
    "    access_key=os.environ[\"MINIO_ROOT_USER\"],\n",
    "    secret_key=os.environ[\"MINIO_ROOT_PASSWORD\"],\n",
    "    secure=False\n",
    ")\n",
    "\n",
    "tp = StreamTweetProcessor(twarc_client=twarc_client, minio_client=minio_client, bucket=\"stream-seeding\")\n",
    "\n",
    "# group_name = \"longevity-pranab\"\n",
    "group_name = \"CA-Abundance-Economy\"\n",
    "group_name = \"nicktorba,rhyslindmark,visakanv\"\n",
    "\n",
    "df_following, df_tweets, df_ref_tweets = tp.remote_read_seed_data(group_name) \n"
   ]
  },
  {
   "cell_type": "code",
   "execution_count": null,
   "id": "ef3318f5-896b-4768-be02-796c6cd167b4",
   "metadata": {},
   "outputs": [],
   "source": [
    "## Get a set of usernames that each seed account follows\n",
    "users_following = {}\n",
    "for user in df_following[\"referencer.username\"].unique().tolist():\n",
    "    users_following[user] = set(df_following[df_following[\"referencer.username\"] == user][\"username\"].tolist())\n",
    "    \n",
    "## index will be useful to access metadata (followers_count) about these accounts\n",
    "df_following.set_index(\"username\", inplace=True)\n",
    "\n",
    "\n",
    "### Create a dataframe that will show the following_overlap for each of the accounts followed by at least 1 of the seed accounts. \n",
    "### We are most interested in the intersection among the following of those accounts\n",
    "### If the accounts are picked well, they will likely have interesting intersection among their shared interest\n",
    "\n",
    "following_overlap = {}\n",
    "\n",
    "for stream_user, following in users_following.items():\n",
    "    for followed_user in following: \n",
    "        following_overlap.setdefault(followed_user, []).append(stream_user)\n",
    "\n",
    "df_data = []\n",
    "\n",
    "for followed_user, stream_users in following_overlap.items():\n",
    "    num_followers_of_followed = df_following.loc[followed_user][\"public_metrics.followers_count\"]\n",
    "    if isinstance(num_followers_of_followed, pd.Series):\n",
    "        num_followers_of_followed = num_followers_of_followed.iloc[0]\n",
    "    df_data.append([followed_user, stream_users, len(stream_users), num_followers_of_followed, f\"https://twitter.com/{followed_user}\"])\n",
    "    \n",
    "overlap_df = pd.DataFrame(df_data, columns=[\"followed.username\", \"stream_users\", \"num_stream_users\", \"num_followers_of_followed\", \"profile_link\"])\n",
    "overlap_df[\"num_stream_users\"].value_counts()"
   ]
  },
  {
   "cell_type": "markdown",
   "id": "e9369226-6013-4293-afca-a8187e997b0d",
   "metadata": {},
   "source": [
    "### Show Overlap\n",
    "Here, we show users that are followed by multiple seed accounts, sorted by the number of followers of that accounts. \n",
    "\n",
    "Filtering out to the lower follower accounts are a signal that that person talks abou their shared interest, and is an easy way to avoid constant reccomendation of accounts like Elon"
   ]
  },
  {
   "cell_type": "code",
   "execution_count": null,
   "id": "cedb345f-ba0d-4890-86a6-98a589e31299",
   "metadata": {},
   "outputs": [],
   "source": [
    "NUM_SEED_ACCOUNTS = 3\n",
    "overlap_df[overlap_df[\"num_stream_users\"]==NUM_SEED_ACCOUNTS].sort_values(\"num_followers_of_followed\")"
   ]
  },
  {
   "cell_type": "code",
   "execution_count": null,
   "id": "e00ec7e1-d362-4752-98f5-d97e6919887a",
   "metadata": {},
   "outputs": [],
   "source": []
  },
  {
   "cell_type": "code",
   "execution_count": null,
   "id": "e9e43c56-9b4a-4785-8ff9-64afad89a935",
   "metadata": {},
   "outputs": [],
   "source": []
  }
 ],
 "metadata": {
  "kernelspec": {
   "display_name": "Python 3 (ipykernel)",
   "language": "python",
   "name": "python3"
  },
  "language_info": {
   "codemirror_mode": {
    "name": "ipython",
    "version": 3
   },
   "file_extension": ".py",
   "mimetype": "text/x-python",
   "name": "python",
   "nbconvert_exporter": "python",
   "pygments_lexer": "ipython3",
   "version": "3.10.0"
  }
 },
 "nbformat": 4,
 "nbformat_minor": 5
}
