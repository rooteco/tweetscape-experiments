{
 "cells": [
  {
   "cell_type": "markdown",
   "id": "7647b1f3-6761-4ccf-b160-badc2365811a",
   "metadata": {},
   "source": [
    "## Find the shared **Tweet** network among the following the stream seeded accounts\n",
    "\n",
    "* how much overlap is there in \n",
    "    * the tweets that seed accounts interact with\n",
    "    * the authors of tweets that seed accounts interact with\n"
   ]
  },
  {
   "cell_type": "code",
   "execution_count": 1,
   "id": "0692746b-c113-4d41-bf0c-994c428023c4",
   "metadata": {},
   "outputs": [
    {
     "name": "stderr",
     "output_type": "stream",
     "text": [
      "/home/nick/Documents/GitHub/tweetscape-experiments/python/tweet_processing/tweet_processing/stream_tweet_processor.py:55: DtypeWarning: Columns (45,46,55,62,63,64,65,66,67,68,69,70) have mixed types. Specify dtype option on import or set low_memory=False.\n",
      "  df_tweets = pd.read_csv(f\"{dir_}/tweets.csv\")\n"
     ]
    }
   ],
   "source": [
    "import os\n",
    "from dotenv import load_dotenv\n",
    "import pandas as pd\n",
    "from twarc import Twarc2, expansions\n",
    "from tweet_processing import StreamTweetProcessor, get_time_interval, lookup_users_by_username\n",
    "\n",
    "load_dotenv()\n",
    "\n",
    "twarc_client = Twarc2(\n",
    "    consumer_key=os.environ[\"consumer_key\"], \n",
    "    consumer_secret=os.environ[\"consumer_secret\"],\n",
    "    access_token=os.environ[\"access_token\"], \n",
    "    access_token_secret=os.environ[\"access_token_secret\"]\n",
    ")\n",
    "\n",
    "data_dir=\"../stream-seeding/data\"\n",
    "\n",
    "tp = StreamTweetProcessor(twarc_client=twarc_client, data_dir=data_dir)\n",
    "\n",
    "# group_name = \"longevity-pranab\"\n",
    "group_name = \"CA-Abundance-Economy\"\n",
    "\n",
    "df_following, df_tweets, df_ref_tweets = tp.load_stream_seed_data(group_name) \n"
   ]
  },
  {
   "cell_type": "code",
   "execution_count": 2,
   "id": "e9eb5d3e-c189-48e6-9da1-3558544d4816",
   "metadata": {},
   "outputs": [],
   "source": [
    "# df_ref_tweets[\"id\"].value_counts()"
   ]
  },
  {
   "cell_type": "code",
   "execution_count": 3,
   "id": "157c0fd0-332f-4816-976e-13b18ca0f465",
   "metadata": {},
   "outputs": [
    {
     "data": {
      "text/plain": [
       "Index(['Unnamed: 0', 'id', 'conversation_id',\n",
       "       'referenced_tweets.replied_to.id', 'referenced_tweets.retweeted.id',\n",
       "       'referenced_tweets.quoted.id', 'author_id', 'in_reply_to_user_id',\n",
       "       'retweeted_user_id', 'quoted_user_id', 'created_at', 'text', 'lang',\n",
       "       'source', 'public_metrics.like_count', 'public_metrics.quote_count',\n",
       "       'public_metrics.reply_count', 'public_metrics.retweet_count',\n",
       "       'reply_settings', 'possibly_sensitive', 'withheld.scope',\n",
       "       'withheld.copyright', 'withheld.country_codes', 'entities.annotations',\n",
       "       'entities.cashtags', 'entities.hashtags', 'entities.mentions',\n",
       "       'entities.urls', 'context_annotations', 'attachments.media',\n",
       "       'attachments.media_keys', 'attachments.poll.duration_minutes',\n",
       "       'attachments.poll.end_datetime', 'attachments.poll.id',\n",
       "       'attachments.poll.options', 'attachments.poll.voting_status',\n",
       "       'attachments.poll_ids', 'author.id', 'author.created_at',\n",
       "       'author.username', 'author.name', 'author.description',\n",
       "       'author.entities.description.cashtags',\n",
       "       'author.entities.description.hashtags',\n",
       "       'author.entities.description.mentions',\n",
       "       'author.entities.description.urls', 'author.entities.url.urls',\n",
       "       'author.location', 'author.pinned_tweet_id', 'author.profile_image_url',\n",
       "       'author.protected', 'author.public_metrics.followers_count',\n",
       "       'author.public_metrics.following_count',\n",
       "       'author.public_metrics.listed_count',\n",
       "       'author.public_metrics.tweet_count', 'author.url', 'author.verified',\n",
       "       'author.withheld.scope', 'author.withheld.copyright',\n",
       "       'author.withheld.country_codes', 'geo.coordinates.coordinates',\n",
       "       'geo.coordinates.type', 'geo.country', 'geo.country_code',\n",
       "       'geo.full_name', 'geo.geo.bbox', 'geo.geo.type', 'geo.id', 'geo.name',\n",
       "       'geo.place_id', 'geo.place_type', '__twarc.retrieved_at', '__twarc.url',\n",
       "       '__twarc.version', 'Unnamed: 74', 'entities.mentions.usernames',\n",
       "       'entities.mentions.num_mentions', 'entities.mentions.double_mention',\n",
       "       'tweet_type', 'tweet_link', 'created_at.hour'],\n",
       "      dtype='object')"
      ]
     },
     "execution_count": 3,
     "metadata": {},
     "output_type": "execute_result"
    }
   ],
   "source": [
    "df_tweets.columns"
   ]
  },
  {
   "cell_type": "markdown",
   "id": "13cd5f46-a2c5-4f36-b91b-216630c1dd9c",
   "metadata": {},
   "source": [
    "# Question: Which tweets have multiple seed accounts seed accounts replied to the last X weeks?\n",
    "\n",
    "This doesn't seem to get much action. Going to move to look at overlap among accounts they are interacting with, instead of specific tweets\n"
   ]
  },
  {
   "cell_type": "code",
   "execution_count": 4,
   "id": "b9b0f7ff-f31e-4ea9-bdb5-b2762a7ebc65",
   "metadata": {},
   "outputs": [
    {
     "name": "stdout",
     "output_type": "stream",
     "text": [
      "(9607, 81) (9607, 81)\n",
      "(8152, 82) (8152, 82)\n"
     ]
    },
    {
     "data": {
      "text/plain": [
       "[1.4080697399816643e+18,\n",
       " 1.5190991782485524e+18,\n",
       " 1.4230538316051292e+18,\n",
       " 1.426329837912789e+18,\n",
       " 1.4770479424479928e+18]"
      ]
     },
     "execution_count": 4,
     "metadata": {},
     "output_type": "execute_result"
    }
   ],
   "source": [
    "X_weeks = 100000 #not seeing enough action in smaller timespans\n",
    "\n",
    "end_time, start_time = get_time_interval(hours=24*7*X_weeks)\n",
    "\n",
    "df_x_tweets = df_tweets[df_tweets[\"created_at\"]>start_time]\n",
    "df_x_ref_tweets = df_ref_tweets[df_ref_tweets[\"created_at\"]>start_time]\n",
    "\n",
    "print(df_tweets.shape, df_x_tweets.shape)\n",
    "print(df_ref_tweets.shape, df_x_ref_tweets.shape)\n",
    "\n",
    "reply_tweets = df_x_tweets[df_x_tweets[\"referenced_tweets.replied_to.id\"].notna()]\n",
    "no_self_replies = reply_tweets[~reply_tweets[\"tweet_type\"].str.contains(\"self-reply\")]\n",
    "\n",
    "# index is replied_to.id, value is the count of unique authors who replied\n",
    "grouped = no_self_replies.groupby(\"referenced_tweets.replied_to.id\")\n",
    "multiple_reply_ids = [id_ for id_, count in grouped[\"author.username\"].nunique().sort_values().items() if count > 1]\n",
    "multiple_reply_ids"
   ]
  },
  {
   "cell_type": "code",
   "execution_count": 5,
   "id": "7d1b15ed-c895-4d59-8d2d-8030b06ddba9",
   "metadata": {},
   "outputs": [
    {
     "name": "stdout",
     "output_type": "stream",
     "text": [
      "--------\n",
      "tweet link for id_ 1.4080697399816643e+18\n",
      "https://twitter.com/kookie13/status/1408069739981664259 tweeted at  2021-06-24 14:29:21+00:00\n",
      "https://twitter.com/hanlonbt/status/1408071225990029323\n",
      "https://twitter.com/anniefryman/status/1408135987734089728\n",
      "--------\n",
      "tweet link for id_ 1.5190991782485524e+18\n",
      "https://twitter.com/MarketUrbanism/status/1519099178248552449 tweeted at  2022-04-26 23:40:42+00:00\n",
      "https://twitter.com/hanlonbt/status/1519114588465229824\n",
      "https://twitter.com/anniefryman/status/1519115464802291712\n",
      "--------\n",
      "tweet link for id_ 1.4230538316051292e+18\n",
      "https://twitter.com/kimmaicutler/status/1423053831605129216 tweeted at  2021-08-04 22:50:47+00:00\n",
      "https://twitter.com/hanlonbt/status/1423077939541774339\n",
      "https://twitter.com/anniefryman/status/1423054184476119042\n",
      "--------\n",
      "tweet link for id_ 1.426329837912789e+18\n",
      "https://twitter.com/Muhammad_Speaks/status/1426329837912788995 tweeted at  2021-08-13 23:48:27+00:00\n",
      "https://twitter.com/hanlonbt/status/1426330890469183491\n",
      "https://twitter.com/anniefryman/status/1426331590473314305\n",
      "--------\n",
      "tweet link for id_ 1.4770479424479928e+18\n",
      "nothing foudn for id 1477047942447992832\n",
      "https://twitter.com/hanlonbt/status/1477053982849650688\n",
      "https://twitter.com/anniefryman/status/1477114065294008321\n"
     ]
    }
   ],
   "source": [
    "for id_ in multiple_reply_ids:\n",
    "    print(\"--------\")\n",
    "    print(f\"tweet link for id_ {id_}\")\n",
    "    if df_ref_tweets[df_ref_tweets[\"id\"] == id_].shape[0] > 0:\n",
    "        print(df_ref_tweets[df_ref_tweets[\"id\"] == id_].tweet_link.iloc[0], \"tweeted at \", df_ref_tweets[df_ref_tweets[\"id\"] == id_].created_at.iloc[0])\n",
    "    else: \n",
    "        print(f\"nothing foudn for id {int(id_)}\")\n",
    "    for tweet in df_x_tweets[df_x_tweets[\"referenced_tweets.replied_to.id\"] == id_].tweet_link.tolist():\n",
    "            print(tweet)"
   ]
  },
  {
   "cell_type": "markdown",
   "id": "a0602566-4e74-43db-96a5-19cf7f5a24a9",
   "metadata": {
    "tags": []
   },
   "source": [
    "# Question: Which accounts have multiple of the seed accounts interacted with in the last X weeks?\n",
    "\n",
    "likely to reveal more than looking at a single type of interaction, or single tweets, plus we are looking to add more accounts, not filter to specific tweets.. \n",
    "\n",
    "* interaction: reply, qt, rt \n",
    "* doing accounts instead of tw"
   ]
  },
  {
   "cell_type": "code",
   "execution_count": 9,
   "id": "d288b071-5c13-4dac-b6b7-ae7f9f08ebeb",
   "metadata": {},
   "outputs": [
    {
     "name": "stdout",
     "output_type": "stream",
     "text": [
      "(9607, 81) (307, 81)\n",
      "(8152, 82) (240, 82)\n"
     ]
    }
   ],
   "source": [
    "X_weeks = 4 #not seeing enough action in smaller timespans\n",
    "\n",
    "end_time, start_time = get_time_interval(hours=24*7*X_weeks)\n",
    "\n",
    "df_x_tweets = df_tweets[df_tweets[\"created_at\"]>start_time]\n",
    "df_x_ref_tweets = df_ref_tweets[df_ref_tweets[\"created_at\"]>start_time]\n",
    "\n",
    "print(df_tweets.shape, df_x_tweets.shape)\n",
    "print(df_ref_tweets.shape, df_x_ref_tweets.shape)\n",
    "\n",
    "reply_tweets = df_x_tweets[df_x_tweets[\"referenced_tweets.replied_to.id\"].notna()]\n",
    "no_self_replies = reply_tweets[~reply_tweets[\"tweet_type\"].str.contains(\"self-reply\")]\n",
    "\n",
    "interaction_columns = [\"referenced_tweets.replied_to.id\", \"referenced_tweets.quoted.id\", \"referenced_tweets.retweeted.id\"]\n",
    "\n",
    "interaction_overlap = {}\n",
    "for i_column in interaction_columns: \n",
    "    for author_username, referenced_id_, tweet_id in zip(df_x_tweets[\"author.username\"].tolist(), df_x_tweets[i_column].tolist(), df_x_tweets[\"id\"].tolist()):\n",
    "        ref_ = df_ref_tweets[df_ref_tweets[\"id\"] == referenced_id_]\n",
    "        if ref_.shape[0] > 0:\n",
    "            # interaction_overlap.setdefault(ref_.iloc[0][\"author.username\"], set()).add(author_username)\n",
    "            \n",
    "            interaction_overlap.setdefault(ref_.iloc[0][\"author.username\"], {\"stream_users\":set(), \"interaction_ids\": []}) #.add(author_username)\n",
    "            interaction_overlap[ref_.iloc[0][\"author.username\"]][\"stream_users\"].add(author_username)\n",
    "            interaction_overlap[ref_.iloc[0][\"author.username\"]][\"interaction_ids\"].append(tweet_id)"
   ]
  },
  {
   "cell_type": "code",
   "execution_count": 11,
   "id": "1185d1ba-9215-40cf-88d1-b8287ab2c341",
   "metadata": {},
   "outputs": [
    {
     "data": {
      "text/plain": [
       "1    160\n",
       "2      4\n",
       "Name: num_stream_users, dtype: int64"
      ]
     },
     "execution_count": 11,
     "metadata": {},
     "output_type": "execute_result"
    }
   ],
   "source": [
    "df_data = []\n",
    "for interacted_user, interaction_data in interaction_overlap.items():\n",
    "    df_data.append(\n",
    "        [\n",
    "            interacted_user, \n",
    "            interaction_data[\"stream_users\"],\n",
    "            len(interaction_data[\"stream_users\"]),\n",
    "            interaction_data[\"interaction_ids\"], \n",
    "            f\"https://twitter.com/{interacted_user}\"\n",
    "        ]\n",
    "    )\n",
    "    \n",
    "# for interacted_user, stream_users in interaction_overlap.items():\n",
    "#     df_data.append(\n",
    "#         [\n",
    "#             interacted_user, \n",
    "#             stream_users, \n",
    "#             len(stream_users), \n",
    "#             f\"https://twitter.com/{interacted_user}\"]\n",
    "#     )\n",
    "    \n",
    "    \n",
    "    \n",
    "overlap_df = pd.DataFrame(\n",
    "    df_data, \n",
    "    columns=[\n",
    "        \"interacted.username\", \n",
    "        \"stream_users\", \n",
    "        \"num_stream_users\", \n",
    "        \"interaction_ids\",\n",
    "        \"profile_link\"\n",
    "    ]\n",
    ")\n",
    "\n",
    "overlap_df[\"num_stream_users\"].value_counts()"
   ]
  },
  {
   "cell_type": "code",
   "execution_count": 13,
   "id": "78bad5f8-876a-4f2f-a039-f0af8c79f04a",
   "metadata": {},
   "outputs": [
    {
     "name": "stderr",
     "output_type": "stream",
     "text": [
      "/tmp/ipykernel_215689/2955126041.py:5: SettingWithCopyWarning: \n",
      "A value is trying to be set on a copy of a slice from a DataFrame.\n",
      "Try using .loc[row_indexer,col_indexer] = value instead\n",
      "\n",
      "See the caveats in the documentation: https://pandas.pydata.org/pandas-docs/stable/user_guide/indexing.html#returning-a-view-versus-a-copy\n",
      "  filtered_overlap_df[\"num_followers_of_interacted\"] = [user_df.loc[username][\"public_metrics.followers_count\"] for username in filtered_overlap_df[\"interacted.username\"].tolist()]\n"
     ]
    },
    {
     "data": {
      "text/html": [
       "<div>\n",
       "<style scoped>\n",
       "    .dataframe tbody tr th:only-of-type {\n",
       "        vertical-align: middle;\n",
       "    }\n",
       "\n",
       "    .dataframe tbody tr th {\n",
       "        vertical-align: top;\n",
       "    }\n",
       "\n",
       "    .dataframe thead th {\n",
       "        text-align: right;\n",
       "    }\n",
       "</style>\n",
       "<table border=\"1\" class=\"dataframe\">\n",
       "  <thead>\n",
       "    <tr style=\"text-align: right;\">\n",
       "      <th></th>\n",
       "      <th>interacted.username</th>\n",
       "      <th>stream_users</th>\n",
       "      <th>num_stream_users</th>\n",
       "      <th>interaction_ids</th>\n",
       "      <th>profile_link</th>\n",
       "      <th>num_followers_of_interacted</th>\n",
       "    </tr>\n",
       "  </thead>\n",
       "  <tbody>\n",
       "    <tr>\n",
       "      <th>9</th>\n",
       "      <td>JohnGonzalesLA1</td>\n",
       "      <td>{anniefryman, hanlonbt}</td>\n",
       "      <td>2</td>\n",
       "      <td>[1545514686552186882, 1541946786637443072]</td>\n",
       "      <td>https://twitter.com/JohnGonzalesLA1</td>\n",
       "      <td>190</td>\n",
       "    </tr>\n",
       "    <tr>\n",
       "      <th>27</th>\n",
       "      <td>thuddwhirr</td>\n",
       "      <td>{rklau, hanlonbt}</td>\n",
       "      <td>2</td>\n",
       "      <td>[1542763705259028482, 1545539157333647360]</td>\n",
       "      <td>https://twitter.com/thuddwhirr</td>\n",
       "      <td>1791</td>\n",
       "    </tr>\n",
       "    <tr>\n",
       "      <th>33</th>\n",
       "      <td>opinonhaver</td>\n",
       "      <td>{anniefryman, hanlonbt}</td>\n",
       "      <td>2</td>\n",
       "      <td>[1542010706039435264, 1542347062221500416]</td>\n",
       "      <td>https://twitter.com/opinonhaver</td>\n",
       "      <td>4079</td>\n",
       "    </tr>\n",
       "    <tr>\n",
       "      <th>28</th>\n",
       "      <td>daguilarcanabal</td>\n",
       "      <td>{anniefryman, hanlonbt}</td>\n",
       "      <td>2</td>\n",
       "      <td>[1542743976763043841, 1542737208855052288, 154...</td>\n",
       "      <td>https://twitter.com/daguilarcanabal</td>\n",
       "      <td>4166</td>\n",
       "    </tr>\n",
       "  </tbody>\n",
       "</table>\n",
       "</div>"
      ],
      "text/plain": [
       "   interacted.username             stream_users  num_stream_users  \\\n",
       "9      JohnGonzalesLA1  {anniefryman, hanlonbt}                 2   \n",
       "27          thuddwhirr        {rklau, hanlonbt}                 2   \n",
       "33         opinonhaver  {anniefryman, hanlonbt}                 2   \n",
       "28     daguilarcanabal  {anniefryman, hanlonbt}                 2   \n",
       "\n",
       "                                      interaction_ids  \\\n",
       "9          [1545514686552186882, 1541946786637443072]   \n",
       "27         [1542763705259028482, 1545539157333647360]   \n",
       "33         [1542010706039435264, 1542347062221500416]   \n",
       "28  [1542743976763043841, 1542737208855052288, 154...   \n",
       "\n",
       "                           profile_link  num_followers_of_interacted  \n",
       "9   https://twitter.com/JohnGonzalesLA1                          190  \n",
       "27       https://twitter.com/thuddwhirr                         1791  \n",
       "33      https://twitter.com/opinonhaver                         4079  \n",
       "28  https://twitter.com/daguilarcanabal                         4166  "
      ]
     },
     "execution_count": 13,
     "metadata": {},
     "output_type": "execute_result"
    }
   ],
   "source": [
    "NUM_SEED_ACCOUNTS = 2\n",
    "filtered_overlap_df = overlap_df[overlap_df[\"num_stream_users\"]>=NUM_SEED_ACCOUNTS]\n",
    "usernames = filtered_overlap_df[\"interacted.username\"].tolist()\n",
    "user_df = lookup_users_by_username(twarc_client, usernames).set_index(\"username\")\n",
    "filtered_overlap_df[\"num_followers_of_interacted\"] = [user_df.loc[username][\"public_metrics.followers_count\"] for username in filtered_overlap_df[\"interacted.username\"].tolist()]\n",
    "filtered_overlap_df.sort_values(\"num_followers_of_interacted\")"
   ]
  },
  {
   "cell_type": "markdown",
   "id": "c8ee659f-75d5-49b2-8a1f-34ba4841a891",
   "metadata": {},
   "source": [
    "### Show Interactions for Particular User\n"
   ]
  },
  {
   "cell_type": "code",
   "execution_count": 20,
   "id": "c063f43f-8ca1-412c-8704-55ec2ed2facf",
   "metadata": {},
   "outputs": [
    {
     "data": {
      "text/markdown": [
       "<blockquote class=\"twitter-tweet\"><p lang=\"en\" dir=\"ltr\">Check out the Fuck Buttons’ Sweet Love for Planet Earth. <br><br>(It’s better if you play it loud and don’t bother trying to understand the lyrics)</p>&mdash; Brian Hanlon (@hanlonbt) <a href=\"https://twitter.com/hanlonbt/status/1542763705259028482?ref_src=twsrc%5Etfw\">July 1, 2022</a></blockquote>\n",
       "<script async src=\"https://platform.twitter.com/widgets.js\" charset=\"utf-8\"></script>\n",
       "<blockquote class=\"twitter-tweet\"><p lang=\"qme\" dir=\"ltr\"> <a href=\"https://t.co/psoGnHLIjY\">pic.twitter.com/psoGnHLIjY</a></p>&mdash; Rick Klau (@rklau) <a href=\"https://twitter.com/rklau/status/1545539157333647360?ref_src=twsrc%5Etfw\">July 8, 2022</a></blockquote>\n",
       "<script async src=\"https://platform.twitter.com/widgets.js\" charset=\"utf-8\"></script>\n"
      ],
      "text/plain": [
       "<IPython.core.display.Markdown object>"
      ]
     },
     "metadata": {},
     "output_type": "display_data"
    }
   ],
   "source": [
    "from tweet_processing.display_tweets import display_feed \n",
    "\n",
    "username = \"thuddwhirr\"\n",
    "row = filtered_overlap_df[filtered_overlap_df[\"interacted.username\"] == username].iloc[0]\n",
    "\n",
    "tweet_links = []\n",
    "for id_ in row.interaction_ids:\n",
    "    tweet_links.append(df_x_tweets[df_x_tweets[\"id\"] == id_].iloc[0].tweet_link)\n",
    "    \n",
    "display_feed(tweet_links)"
   ]
  },
  {
   "cell_type": "markdown",
   "id": "d290da7b-6952-4685-a848-d7b545181025",
   "metadata": {
    "tags": []
   },
   "source": [
    "## Question: Who are these accounts replying to in the last X weeks? \n",
    "\n",
    "* removing all self-replies!"
   ]
  },
  {
   "cell_type": "code",
   "execution_count": null,
   "id": "62bc050b-6039-44da-9f92-ec7a01aa6ecb",
   "metadata": {},
   "outputs": [],
   "source": [
    "from tweet_processing import get_time_interval"
   ]
  },
  {
   "cell_type": "code",
   "execution_count": null,
   "id": "428ebc55-11d3-47e7-8221-b2ee6bfb06b4",
   "metadata": {},
   "outputs": [],
   "source": [
    "X_weeks = 4\n",
    "\n",
    "end_time, start_time = get_time_interval(hours=24*7*X_weeks)\n",
    "\n",
    "df_x_tweets = df_tweets[df_tweets[\"created_at\"]>start_time]\n",
    "df_x_ref_tweets = df_ref_tweets[df_ref_tweets[\"created_at\"]>start_time]\n",
    "\n",
    "print(df_tweets.shape, df_x_tweets.shape)\n",
    "print(df_ref_tweets.shape, df_x_ref_tweets.shape)"
   ]
  },
  {
   "cell_type": "code",
   "execution_count": null,
   "id": "16a94509-290d-45c4-8be6-b3bbf4ddcade",
   "metadata": {},
   "outputs": [],
   "source": [
    "reply_tweets = df_x_tweets[df_x_tweets[\"referenced_tweets.replied_to.id\"].notna()]\n",
    "no_self_replies = reply_tweets[~reply_tweets[\"tweet_type\"].str.contains(\"self-reply\")]\n",
    "\n",
    "print(reply_tweets.shape)\n",
    "print(no_self_replies.shape)\n",
    "\n",
    "replied_to_tweets = df_x_ref_tweets[df_x_ref_tweets.id.isin(no_self_replies[\"referenced_tweets.replied_to.id\"])]\n",
    "replied_to_tweets.shape"
   ]
  },
  {
   "cell_type": "code",
   "execution_count": null,
   "id": "4fcd284c-cab4-41ac-95c3-35f63a6b3066",
   "metadata": {},
   "outputs": [],
   "source": [
    "print(replied_to_tweets[\"tweet_type\"].value_counts())\n",
    "replied_to_tweets[\"author.username\"].value_counts()"
   ]
  },
  {
   "cell_type": "code",
   "execution_count": null,
   "id": "c083159d-2de9-4680-847d-311bff25a3ff",
   "metadata": {},
   "outputs": [],
   "source": [
    "reply_tweets[\"referenced_tweets.replied_to.id\"].value_counts()"
   ]
  },
  {
   "cell_type": "code",
   "execution_count": null,
   "id": "9a63e589-7189-4f96-b44e-2ed7471f3ee0",
   "metadata": {},
   "outputs": [],
   "source": []
  }
 ],
 "metadata": {
  "kernelspec": {
   "display_name": "Python 3 (ipykernel)",
   "language": "python",
   "name": "python3"
  },
  "language_info": {
   "codemirror_mode": {
    "name": "ipython",
    "version": 3
   },
   "file_extension": ".py",
   "mimetype": "text/x-python",
   "name": "python",
   "nbconvert_exporter": "python",
   "pygments_lexer": "ipython3",
   "version": "3.10.0"
  }
 },
 "nbformat": 4,
 "nbformat_minor": 5
}
