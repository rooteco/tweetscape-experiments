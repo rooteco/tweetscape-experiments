{
 "cells": [
  {
   "cell_type": "markdown",
   "id": "63533cbe",
   "metadata": {},
   "source": [
    "## Keyword and N-Gram for full stream\n",
    "\n",
    "Finding keywords from the tweets in a couple of different ways. \n",
    "\n",
    "First, get plain keywords with CountVectorizer from sklearn\n",
    "\n",
    "Then, use CountVectorizier to get 2-grams and 3-grams, then use only the words in those as keywords. \n",
    "\n",
    "Use spacy as preprocessor to only get words with certain tags. "
   ]
  },
  {
   "cell_type": "markdown",
   "id": "9111e432",
   "metadata": {},
   "source": [
    "### Load"
   ]
  },
  {
   "cell_type": "code",
   "execution_count": 20,
   "id": "8d20d100",
   "metadata": {},
   "outputs": [],
   "source": [
    "import os\n",
    "from dotenv import load_dotenv\n",
    "import pandas as pd\n",
    "from twarc import Twarc2, expansions\n",
    "from tweet_processing import StreamTweetProcessor\n",
    "\n",
    "from sklearn.feature_extraction.text import CountVectorizer\n",
    "import matplotlib.pyplot as plt\n",
    "import numpy as np\n",
    "\n",
    "from collections import Counter\n",
    "import seaborn as sns"
   ]
  },
  {
   "cell_type": "code",
   "execution_count": 21,
   "id": "e7dbbc55-06fe-4c1f-aa4b-4aa2625bd554",
   "metadata": {},
   "outputs": [],
   "source": [
    "load_dotenv()\n",
    "\n",
    "data_dir=\"data\" \n",
    "twarc_client = Twarc2(\n",
    "    consumer_key=os.environ[\"consumer_key\"], \n",
    "    consumer_secret=os.environ[\"consumer_secret\"],\n",
    "    access_token=os.environ[\"access_token\"], \n",
    "    access_token_secret=os.environ[\"access_token_secret\"]\n",
    ")\n",
    "\n",
    "tp = StreamTweetProcessor(twarc_client=twarc_client, data_dir=data_dir)\n",
    "\n",
    "groups = [\"longevity-pranab\"]#, \"CA-Abundance-Economy\"]\n",
    "following, tweets, refs  = [], [], []\n",
    "dfs = [following, tweets, refs]\n",
    "\n",
    "for g in groups: \n",
    "    [f, t, r] = tp.load_stream_seed_data(g)\n",
    "    refs.append(r), tweets.append(t) , following.append(f)\n",
    "\n",
    "dfs = [pd.concat(df) for df in dfs]\n",
    "df_following, df_tweets, df_refs = dfs"
   ]
  },
  {
   "cell_type": "markdown",
   "id": "b354bd72",
   "metadata": {},
   "source": [
    "### Peek"
   ]
  },
  {
   "cell_type": "code",
   "execution_count": 22,
   "id": "607c8d09",
   "metadata": {},
   "outputs": [
    {
     "name": "stderr",
     "output_type": "stream",
     "text": [
      "/tmp/ipykernel_74634/829020691.py:3: SettingWithCopyWarning: \n",
      "A value is trying to be set on a copy of a slice from a DataFrame.\n",
      "Try using .loc[row_indexer,col_indexer] = value instead\n",
      "\n",
      "See the caveats in the documentation: https://pandas.pydata.org/pandas-docs/stable/user_guide/indexing.html#returning-a-view-versus-a-copy\n",
      "  df_tweets['created_at'] = pd.to_datetime(df_tweets['created_at'])\n"
     ]
    }
   ],
   "source": [
    "df_tweets = df_tweets[['entities.mentions.usernames', 'id', 'text', 'author_id', 'author.username', 'created_at', 'public_metrics.like_count', 'public_metrics.quote_count', 'public_metrics.reply_count', 'public_metrics.retweet_count','attachments.media','attachments.media_keys']]\n",
    "\n",
    "df_tweets['created_at'] = pd.to_datetime(df_tweets['created_at'])\n",
    "\n",
    "# ensure consistency in id/name\n",
    "assert df_tweets.author_id.value_counts().to_list() ==  df_tweets[\"author.username\"].value_counts().to_list()\n",
    "# df_tweets.dropna().head()"
   ]
  },
  {
   "cell_type": "code",
   "execution_count": 23,
   "id": "1697b23d",
   "metadata": {},
   "outputs": [
    {
     "name": "stdout",
     "output_type": "stream",
     "text": [
      "Percentage of tweets without media: 90.32%\n"
     ]
    }
   ],
   "source": [
    "# Counting \"pure\" tweets\n",
    "# TODO: include retweets, urls\n",
    "# TODO: use df_tweets.entities.mentions.usernames to exemot from preprocessing\n",
    "\n",
    "n = df_tweets['attachments.media'].isna().sum()/df_tweets.shape[0]\n",
    "print(f\"Percentage of tweets without media: {n:.2%}\")\n",
    "\n",
    "df_no_mentions_no_media = df_tweets[(df_tweets['attachments.media'].isna()) & (df_tweets['entities.mentions.usernames'].isna())]"
   ]
  },
  {
   "cell_type": "code",
   "execution_count": 24,
   "id": "292bf351-4a4a-4996-9247-c1cb659dc2e3",
   "metadata": {},
   "outputs": [],
   "source": [
    "import re\n",
    "\n",
    "def preprocess(text):\n",
    "    text = text.lower()\n",
    "    # replace first \\n with space\n",
    "    text = re.sub(r'http\\S+', '', text)\n",
    "    text = re.sub(r'\\\\n', ' ', text)\n",
    "    \n",
    "    text = re.sub(r'\\S*@\\S*\\s?',' ', text) # remove email addresses\n",
    "    \n",
    "    # remove unicode characters, except @ and #\n",
    "    # text = re.sub(r'[^\\x00-\\x7f]',r' ', text)\n",
    "\n",
    "    return text\n",
    "\n",
    "from nltk.corpus import stopwords\n",
    "from string import punctuation\n",
    "\n",
    "stop=set(stopwords.words('english'))\n"
   ]
  },
  {
   "cell_type": "code",
   "execution_count": 25,
   "id": "a0e3220f-7c6e-400f-ba31-a9af00290ff5",
   "metadata": {},
   "outputs": [
    {
     "name": "stdout",
     "output_type": "stream",
     "text": [
      "For clustering publications to map a new field, are there any better algs than Word2Vec + LDA (ala https://t.co/93SkaAgpjW)?\n"
     ]
    },
    {
     "data": {
      "text/plain": [
       "'for clustering publications to map a new field, are there any better algs than word2vec + lda (ala '"
      ]
     },
     "execution_count": 25,
     "metadata": {},
     "output_type": "execute_result"
    }
   ],
   "source": [
    "print(df_no_mentions_no_media[\"text\"].tolist()[10])\n",
    "\n",
    "preprocess(df_no_mentions_no_media[\"text\"].tolist()[10])"
   ]
  },
  {
   "cell_type": "code",
   "execution_count": 26,
   "id": "0ed5aea3-e59f-40d6-a941-c93761c7db13",
   "metadata": {},
   "outputs": [
    {
     "name": "stdout",
     "output_type": "stream",
     "text": [
      "Does anyone know what the stats are on % of graduate students that go on to receive a tenured professorship vs % of 'successful' startups (incorporated -&gt; return 2-3x+) across different industries?\n"
     ]
    },
    {
     "data": {
      "text/plain": [
       "\"does anyone know what the stats are on % of graduate students that go on to receive a tenured professorship vs % of 'successful' startups (incorporated -&gt; return 2-3x+) across different industries?\""
      ]
     },
     "execution_count": 26,
     "metadata": {},
     "output_type": "execute_result"
    }
   ],
   "source": [
    "n = 6\n",
    "print(df_no_mentions_no_media[\"text\"].tolist()[n])\n",
    "\n",
    "preprocess(df_no_mentions_no_media[\"text\"].tolist()[n])"
   ]
  },
  {
   "cell_type": "code",
   "execution_count": 27,
   "id": "8e853d6a-431f-4b4b-9110-6697630ff931",
   "metadata": {},
   "outputs": [
    {
     "name": "stdout",
     "output_type": "stream",
     "text": [
      "I recently read and enjoyed ‘Less’, ‘Overstory’, and ‘The Idiot’ - before that, I hadn’t read many Pulitzer Prize or finalist books. Any suggestions for other books in that category?\n"
     ]
    },
    {
     "data": {
      "text/plain": [
       "'i recently read and enjoyed ‘less’, ‘overstory’, and ‘the idiot’ - before that, i hadn’t read many pulitzer prize or finalist books. any suggestions for other books in that category?'"
      ]
     },
     "execution_count": 27,
     "metadata": {},
     "output_type": "execute_result"
    }
   ],
   "source": [
    "n = 5\n",
    "print(df_no_mentions_no_media[\"text\"].tolist()[n])\n",
    "\n",
    "preprocess(df_no_mentions_no_media[\"text\"].tolist()[n])"
   ]
  },
  {
   "cell_type": "markdown",
   "id": "40953ac1-28f8-452b-8981-61776f91969b",
   "metadata": {},
   "source": [
    "### Preprocess Tweets"
   ]
  },
  {
   "cell_type": "code",
   "execution_count": 28,
   "id": "a7683de2-5456-480f-bbbd-5da22f9399dc",
   "metadata": {},
   "outputs": [],
   "source": [
    "## This is a list of words that are in all the tweets with no media \n",
    "preprocessed_tweets = [preprocess(i) for i in df_no_mentions_no_media[\"text\"].tolist()]\n",
    "\n",
    "corpus = \" \".join(preprocessed_tweets).split() # single string containing all tweets for counting and such"
   ]
  },
  {
   "cell_type": "code",
   "execution_count": null,
   "id": "6e4c8f24-0513-4e1b-9dd6-e55c3e14cdd6",
   "metadata": {},
   "outputs": [],
   "source": []
  },
  {
   "cell_type": "code",
   "execution_count": 29,
   "id": "efb57989-4fbe-49cf-99a2-94989fbcfe18",
   "metadata": {},
   "outputs": [],
   "source": [
    "## This is a list of words that are in all the tweets with no media \n",
    "preprocessed_tweets = [preprocess(i) for i in df_no_mentions_no_media[\"text\"].tolist()]\n",
    "\n",
    "corpus = \" \".join(preprocessed_tweets).split() # single string containing all tweets for counting and such"
   ]
  },
  {
   "cell_type": "code",
   "execution_count": 30,
   "id": "864dced1-b6ad-4ecd-b367-8a66ff782758",
   "metadata": {},
   "outputs": [
    {
     "data": {
      "text/plain": [
       "<AxesSubplot:>"
      ]
     },
     "execution_count": 30,
     "metadata": {},
     "output_type": "execute_result"
    },
    {
     "data": {
      "image/png": "[encoded data removed]",
      "text/plain": [
       "<Figure size 432x288 with 1 Axes>"
      ]
     },
     "metadata": {
      "needs_background": "light"
     },
     "output_type": "display_data"
    }
   ],
   "source": [
    "def get_ngram_counts(corpus, n=None):\n",
    "    \"\"\"\n",
    "    Get the Ngrams from a corpous\n",
    "    n=1 to get the count of plain old words\n",
    "    using sklearn built in stop words, which they are clear isn't a universal solution\n",
    "    \"\"\"\n",
    "    vec = CountVectorizer(ngram_range=(n, n), stop_words=\"english\").fit(corpus)\n",
    "    bag_of_words = vec.transform(corpus) # create bag of words rep of corpus\n",
    "    sum_words = bag_of_words.sum(axis=0) # sum the columns to get total number of occurences for that ngram\n",
    "    words_freq = [(word, sum_words[0, idx]) \n",
    "                  for word, idx in vec.vocabulary_.items()] # match sum to to ngram\n",
    "    words_freq =sorted(words_freq, key = lambda x: x[1], reverse=True) # sort for return \n",
    "    return words_freq\n",
    "\n",
    "words_freq = get_ngram_counts([i for i in corpus if i not in stop], n=1)\n",
    "x, y= [], []\n",
    "\n",
    "for word,count in words_freq[:10]:\n",
    "    # if (word not in stop):\n",
    "    x.append(word)\n",
    "    y.append(count)\n",
    "        \n",
    "sns.barplot(x=y,y=x)"
   ]
  },
  {
   "cell_type": "markdown",
   "id": "08dce9eb-8a60-4701-9412-2d4999f81c42",
   "metadata": {},
   "source": [
    "## 2grams\n",
    "\n",
    "Step One:\n",
    "* get the 2grams\n",
    "\n",
    "Step two: \n",
    "* get the most common words from only the two-grams\n",
    "\n",
    "This seems to be the best way to get get keywords from tweets"
   ]
  },
  {
   "cell_type": "code",
   "execution_count": 31,
   "id": "05fba959-56c8-426f-88a8-f091ea566167",
   "metadata": {
    "tags": []
   },
   "outputs": [
    {
     "data": {
      "text/plain": [
       "<AxesSubplot:>"
      ]
     },
     "execution_count": 31,
     "metadata": {},
     "output_type": "execute_result"
    },
    {
     "data": {
      "image/png": "[encoded data removed]",
      "text/plain": [
       "<Figure size 432x288 with 1 Axes>"
      ]
     },
     "metadata": {
      "needs_background": "light"
     },
     "output_type": "display_data"
    }
   ],
   "source": [
    "bigrams = get_ngram_counts(\n",
    "    corpus, \n",
    "    2\n",
    ")\n",
    "\n",
    "top_n_bigrams = bigrams[:30]\n",
    "\n",
    "x,y=map(list,zip(*top_n_bigrams)) \n",
    "sns.barplot(x=y,y=x)\n"
   ]
  },
  {
   "cell_type": "code",
   "execution_count": 32,
   "id": "eada9a68-85d5-4515-b22c-4fb37c764e7f",
   "metadata": {},
   "outputs": [
    {
     "data": {
      "text/plain": [
       "\"i'd like to have fluency with basic game theory well enough to have intuition for the situations presented in parfit's 'reasons and persons'. any suggestions for a text or tutor?  want to build really strong, simple intuitions to go with the relevant equations - nothing fancy.\""
      ]
     },
     "execution_count": 32,
     "metadata": {},
     "output_type": "execute_result"
    }
   ],
   "source": [
    "preprocessed_tweets[0]"
   ]
  },
  {
   "cell_type": "code",
   "execution_count": 33,
   "id": "b8688dce-b515-49eb-b62f-289045224cfd",
   "metadata": {},
   "outputs": [
    {
     "name": "stdout",
     "output_type": "stream",
     "text": [
      "67\n",
      "hosting happy hour in sf, monday 12/13 - for grad students / postdocs / industry scientists interested in joining longevity/regenerative medicine cos - will describe a project we're working on + other good cos that are hiring - fill out to come -&gt; \n"
     ]
    }
   ],
   "source": [
    "for num, text in enumerate(preprocessed_tweets):\n",
    "    if \"13\" in text:\n",
    "        print(num)\n",
    "        print(text)\n",
    "        break"
   ]
  },
  {
   "cell_type": "code",
   "execution_count": 34,
   "id": "bb8a81e4-1e3f-408d-9931-fcef25c4b695",
   "metadata": {},
   "outputs": [],
   "source": [
    "def get_ngram_keyword_counts(corpus, ngram_counts):\n",
    "    \"\"\"\n",
    "    VERY IMPORTANT: Only pass the number of ngram_counts that are of interest\n",
    "        e.g. only use the top 20 ngrams to make this vocba smaller. Don't pass alllll the ngrams\n",
    "    Take a set of n_gram counts, and then filter out the corpus to contain only the words used in those ngrams\n",
    "    Get the keywords of that corpus\n",
    "    \"\"\"\n",
    "    words_from_ngrams = set()\n",
    "    for gram, count in ngram_counts:\n",
    "        for word in gram.split():\n",
    "            words_from_ngrams.add(word)\n",
    "    \n",
    "    ngram_corpus = [i for i in corpus if i in words_from_ngrams]\n",
    "    return get_ngram_counts(ngram_corpus, 1)"
   ]
  },
  {
   "cell_type": "code",
   "execution_count": 35,
   "id": "fc303a9e-ec3d-44dc-8534-622ebc5a5c1d",
   "metadata": {},
   "outputs": [
    {
     "data": {
      "text/plain": [
       "<AxesSubplot:>"
      ]
     },
     "execution_count": 35,
     "metadata": {},
     "output_type": "execute_result"
    },
    {
     "data": {
      "image/png": "[encoded data removed]",
      "text/plain": [
       "<Figure size 432x288 with 1 Axes>"
      ]
     },
     "metadata": {
      "needs_background": "light"
     },
     "output_type": "display_data"
    }
   ],
   "source": [
    "n = 2\n",
    "\n",
    "ngram_counts = get_ngram_counts(corpus, n)\n",
    "ngram_keyword_counts = get_ngram_keyword_counts(corpus, ngram_counts[:20]) ## get keywords from top 20 ngrams\n",
    "\n",
    "\n",
    "x, y= [], []\n",
    "for word,count in ngram_keyword_counts[:20]:\n",
    "    x.append(word)\n",
    "    y.append(count)\n",
    "       \n",
    "        \n",
    "sns.barplot(x=y,y=x)"
   ]
  },
  {
   "cell_type": "code",
   "execution_count": 36,
   "id": "1bd1ac0c-e41f-4f2a-a830-e90e1aeff406",
   "metadata": {},
   "outputs": [
    {
     "ename": "NameError",
     "evalue": "name 'get_word_count' is not defined",
     "output_type": "error",
     "traceback": [
      "\u001b[0;31m---------------------------------------------------------------------------\u001b[0m",
      "\u001b[0;31mNameError\u001b[0m                                 Traceback (most recent call last)",
      "Input \u001b[0;32mIn [36]\u001b[0m, in \u001b[0;36m<module>\u001b[0;34m\u001b[0m\n\u001b[1;32m      5\u001b[0m         words_from_bigrams\u001b[38;5;241m.\u001b[39mappend(word)\n\u001b[1;32m      7\u001b[0m bigram_word_corpus \u001b[38;5;241m=\u001b[39m [i \u001b[38;5;28;01mfor\u001b[39;00m i \u001b[38;5;129;01min\u001b[39;00m corpus \u001b[38;5;28;01mif\u001b[39;00m i \u001b[38;5;129;01min\u001b[39;00m words_from_bigrams]\n\u001b[0;32m----> 9\u001b[0m most \u001b[38;5;241m=\u001b[39m \u001b[43mget_word_count\u001b[49m([i \u001b[38;5;28;01mfor\u001b[39;00m i \u001b[38;5;129;01min\u001b[39;00m corpus \u001b[38;5;28;01mif\u001b[39;00m i \u001b[38;5;129;01min\u001b[39;00m words_from_bigrams])\n\u001b[1;32m     11\u001b[0m x, y\u001b[38;5;241m=\u001b[39m [], []\n\u001b[1;32m     12\u001b[0m \u001b[38;5;28;01mfor\u001b[39;00m word,count \u001b[38;5;129;01min\u001b[39;00m most[:\u001b[38;5;241m20\u001b[39m]:\n\u001b[1;32m     13\u001b[0m     \u001b[38;5;66;03m# if (word not in stop):\u001b[39;00m\n",
      "\u001b[0;31mNameError\u001b[0m: name 'get_word_count' is not defined"
     ]
    }
   ],
   "source": [
    "\n",
    "\n",
    "words_from_bigrams = []\n",
    "\n",
    "for two_gram, count in top_n_bigrams:\n",
    "    for word in two_gram.split():\n",
    "        words_from_bigrams.append(word)\n",
    "    \n",
    "bigram_word_corpus = [i for i in corpus if i in words_from_bigrams]\n",
    "\n",
    "most = get_word_count([i for i in corpus if i in words_from_bigrams])\n",
    "\n",
    "x, y= [], []\n",
    "for word,count in most[:20]:\n",
    "    # if (word not in stop):\n",
    "    x.append(word)\n",
    "    y.append(count)\n",
    "       \n",
    "        \n",
    "sns.barplot(x=y,y=x)"
   ]
  },
  {
   "cell_type": "markdown",
   "id": "df1e6830-0a2f-4a06-b624-a584c1f75b7f",
   "metadata": {},
   "source": [
    "## Notes on 2-grams\n",
    "* interesting that there are many 2-grams that have the word \"aging\", but aging isn't in the top of th 1-grams \n",
    "\n",
    "* probably worth it to get the keywords of the 2,3, and 4 grams (likly a better signal than the plain old keywords) \n",
    "\n",
    "* "
   ]
  },
  {
   "cell_type": "markdown",
   "id": "c3e22c3e-d463-4873-9238-0afe4e6bfd49",
   "metadata": {},
   "source": [
    "### 3Grams\n",
    "\n",
    "Same steps as the twograms above"
   ]
  },
  {
   "cell_type": "code",
   "execution_count": null,
   "id": "253f986f-26f6-4e0b-a48c-a5b418765fd3",
   "metadata": {},
   "outputs": [],
   "source": [
    "trigrams=get_ngram_counts([preprocess(i) for i in df_no_mentions_no_media[\"text\"].tolist()],3)\n",
    "top_n_trigrams = trigrams[:20]\n",
    "x,y=map(list,zip(*top_n_trigrams)) \n",
    "sns.barplot(x=y,y=x)"
   ]
  },
  {
   "cell_type": "code",
   "execution_count": null,
   "id": "e8200412-3a59-4369-96f6-2420ed1a3e77",
   "metadata": {},
   "outputs": [],
   "source": [
    "words_from_trigrams = []\n",
    "\n",
    "for gram, count in trigrams[:100]:\n",
    "    for word in gram.split():\n",
    "        words_from_trigrams.append(word)\n",
    "    \n",
    "trigram_word_corpus = [i for i in corpus if i in words_from_trigrams]\n",
    "\n",
    "most = get_word_count(trigram_word_corpus)\n",
    "\n",
    "x, y= [], []\n",
    "for word,count in most[:20]:\n",
    "    # if (word not in stop):\n",
    "    x.append(word)\n",
    "    y.append(count)\n",
    "       \n",
    "        \n",
    "sns.barplot(x=y,y=x)\n"
   ]
  },
  {
   "cell_type": "markdown",
   "id": "8635ca2d-9370-4ba9-85b7-08f2a26142d9",
   "metadata": {},
   "source": [
    "## Spacy Hotwords\n",
    "https://betterprogramming.pub/extract-keywords-using-spacy-in-python-4a8415478fbf\n",
    "\n",
    "* "
   ]
  },
  {
   "cell_type": "code",
   "execution_count": null,
   "id": "78956b0d-6680-44da-bbef-5b4309ba4b05",
   "metadata": {},
   "outputs": [],
   "source": [
    "from collections import Counter\n",
    "from string import punctuation\n",
    "import spacy \n",
    "\n",
    "def get_hotwords(text):\n",
    "    result = []\n",
    "    pos_tag = ['PROPN', 'ADJ', 'NOUN'] # 1\n",
    "    doc = nlp(text.lower()) # 2\n",
    "    for token in doc:\n",
    "        # 3\n",
    "        if(token.text in nlp.Defaults.stop_words or token.text in punctuation):\n",
    "            continue\n",
    "        # 4\n",
    "        if(token.pos_ in pos_tag):\n",
    "            result.append(token.text)\n",
    "    return result # 5\n",
    "\n",
    "nlp = spacy.load(\"en_core_web_sm\")\n",
    "\n"
   ]
  },
  {
   "cell_type": "code",
   "execution_count": null,
   "id": "a0becc80-65ea-4c8b-bfad-5420572bfa00",
   "metadata": {},
   "outputs": [],
   "source": [
    "hotwords = get_hotwords(\" \".join(preprocessed_tweets))\n",
    "hotwords = set(hotwords)"
   ]
  },
  {
   "cell_type": "code",
   "execution_count": null,
   "id": "2f5d821e-5321-465b-a941-3bd68398408d",
   "metadata": {},
   "outputs": [],
   "source": [
    "most = get_word_count([i for i in corpus if i in hotwords])\n",
    "\n",
    "x, y= [], []\n",
    "for word,count in most[:30]:\n",
    "    # if (word not in stop):\n",
    "    x.append(word)\n",
    "    y.append(count)\n",
    "       \n",
    "        \n",
    "sns.barplot(x=y,y=x)"
   ]
  },
  {
   "cell_type": "code",
   "execution_count": null,
   "id": "70f2f979-5deb-4e29-b31e-0d513cbe47cd",
   "metadata": {},
   "outputs": [],
   "source": []
  }
 ],
 "metadata": {
  "kernelspec": {
   "display_name": "Python 3 (ipykernel)",
   "language": "python",
   "name": "python3"
  },
  "language_info": {
   "codemirror_mode": {
    "name": "ipython",
    "version": 3
   },
   "file_extension": ".py",
   "mimetype": "text/x-python",
   "name": "python",
   "nbconvert_exporter": "python",
   "pygments_lexer": "ipython3",
   "version": "3.10.0"
  },
  "vscode": {
   "interpreter": {
    "hash": "17114df6d96c3e1cb60efbd1ebfe6c037166772d51ada9a279fe71a9eeac778c"
   }
  }
 },
 "nbformat": 4,
 "nbformat_minor": 5
}
