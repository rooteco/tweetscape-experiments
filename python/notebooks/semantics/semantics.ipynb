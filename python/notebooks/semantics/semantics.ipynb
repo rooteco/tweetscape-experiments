{
 "cells": [
  {
   "cell_type": "markdown",
   "id": "63533cbe",
   "metadata": {},
   "source": [
    "# Ingest"
   ]
  },
  {
   "cell_type": "markdown",
   "id": "9111e432",
   "metadata": {},
   "source": [
    "### Load"
   ]
  },
  {
   "cell_type": "code",
   "execution_count": 202,
   "id": "8d20d100",
   "metadata": {},
   "outputs": [],
   "source": [
    "import os\n",
    "from dotenv import load_dotenv\n",
    "import pandas as pd\n",
    "from twarc import Twarc2, expansions\n",
    "from tweet_processing import StreamTweetProcessor\n",
    "\n",
    "import matplotlib.pyplot as plt\n",
    "import numpy as np"
   ]
  },
  {
   "cell_type": "code",
   "execution_count": 203,
   "id": "e7dbbc55-06fe-4c1f-aa4b-4aa2625bd554",
   "metadata": {},
   "outputs": [
    {
     "name": "stderr",
     "output_type": "stream",
     "text": [
      "/var/folders/6v/v3k0ftn92ld7ss4w20w4t8480000gn/T/ipykernel_80172/677589303.py:18: DtypeWarning: Columns (45,46,55,62,63,64,65,66,67,68,69,70) have mixed types.Specify dtype option on import or set low_memory=False.\n",
      "  [f, t, r] = tp.load_stream_seed_data(g)\n"
     ]
    }
   ],
   "source": [
    "load_dotenv()\n",
    "\n",
    "data_dir=\"../stream-seeding/data\" \n",
    "twarc_client = Twarc2(\n",
    "    consumer_key=os.environ[\"consumer_key\"], \n",
    "    consumer_secret=os.environ[\"consumer_secret\"],\n",
    "    access_token=os.environ[\"access_token\"], \n",
    "    access_token_secret=os.environ[\"access_token_secret\"]\n",
    ")\n",
    "\n",
    "tp = StreamTweetProcessor(twarc_client=twarc_client, data_dir=data_dir)\n",
    "\n",
    "groups = [\"longevity-pranab\", \"CA-Abundance-Economy\"]\n",
    "following, tweets, refs  = [], [], []\n",
    "dfs = [following, tweets, refs]\n",
    "\n",
    "for g in groups: \n",
    "    [f, t, r] = tp.load_stream_seed_data(g)\n",
    "    refs.append(r), tweets.append(t) , following.append(f)\n",
    "\n",
    "dfs = [pd.concat(df).reset_index() for df in dfs]\n",
    "df_following, df_tweets, df_refs = dfs"
   ]
  },
  {
   "cell_type": "markdown",
   "id": "b354bd72",
   "metadata": {},
   "source": [
    "### Peek"
   ]
  },
  {
   "cell_type": "code",
   "execution_count": 204,
   "id": "607c8d09",
   "metadata": {},
   "outputs": [
    {
     "name": "stdout",
     "output_type": "stream",
     "text": [
      "99.63% of referenced tweets have associated accounts\n"
     ]
    },
    {
     "data": {
      "text/html": [
       "<div>\n",
       "<style scoped>\n",
       "    .dataframe tbody tr th:only-of-type {\n",
       "        vertical-align: middle;\n",
       "    }\n",
       "\n",
       "    .dataframe tbody tr th {\n",
       "        vertical-align: top;\n",
       "    }\n",
       "\n",
       "    .dataframe thead th {\n",
       "        text-align: right;\n",
       "    }\n",
       "</style>\n",
       "<table border=\"1\" class=\"dataframe\">\n",
       "  <thead>\n",
       "    <tr style=\"text-align: right;\">\n",
       "      <th></th>\n",
       "      <th>id</th>\n",
       "      <th>text</th>\n",
       "      <th>author_id</th>\n",
       "      <th>author.username</th>\n",
       "      <th>created_at</th>\n",
       "      <th>public_metrics.like_count</th>\n",
       "      <th>public_metrics.quote_count</th>\n",
       "      <th>public_metrics.reply_count</th>\n",
       "      <th>public_metrics.retweet_count</th>\n",
       "      <th>attachments.media</th>\n",
       "      <th>attachments.media_keys</th>\n",
       "      <th>referenced_tweets.replied_to.id</th>\n",
       "      <th>referenced_tweets.retweeted.id</th>\n",
       "      <th>referenced_tweets.quoted.id</th>\n",
       "      <th>in_reply_to_user_id</th>\n",
       "      <th>retweeted_user_id</th>\n",
       "      <th>quoted_user_id</th>\n",
       "      <th>referenced</th>\n",
       "      <th>referenced_authors</th>\n",
       "    </tr>\n",
       "  </thead>\n",
       "  <tbody>\n",
       "    <tr>\n",
       "      <th>0</th>\n",
       "      <td>1546652638917275649</td>\n",
       "      <td>I'd like to have fluency with basic game theor...</td>\n",
       "      <td>301427990</td>\n",
       "      <td>LauraDeming</td>\n",
       "      <td>2022-07-12 00:28:19+00:00</td>\n",
       "      <td>75</td>\n",
       "      <td>1</td>\n",
       "      <td>13</td>\n",
       "      <td>1</td>\n",
       "      <td>NaN</td>\n",
       "      <td>NaN</td>\n",
       "      <td>0</td>\n",
       "      <td>0</td>\n",
       "      <td>0</td>\n",
       "      <td>0</td>\n",
       "      <td>0</td>\n",
       "      <td>0</td>\n",
       "      <td>False</td>\n",
       "      <td>False</td>\n",
       "    </tr>\n",
       "    <tr>\n",
       "      <th>1</th>\n",
       "      <td>1546636515920322560</td>\n",
       "      <td>I wish there was a Serious Eats but for bio pr...</td>\n",
       "      <td>301427990</td>\n",
       "      <td>LauraDeming</td>\n",
       "      <td>2022-07-11 23:24:15+00:00</td>\n",
       "      <td>20</td>\n",
       "      <td>0</td>\n",
       "      <td>3</td>\n",
       "      <td>1</td>\n",
       "      <td>NaN</td>\n",
       "      <td>NaN</td>\n",
       "      <td>0</td>\n",
       "      <td>0</td>\n",
       "      <td>0</td>\n",
       "      <td>0</td>\n",
       "      <td>0</td>\n",
       "      <td>0</td>\n",
       "      <td>False</td>\n",
       "      <td>False</td>\n",
       "    </tr>\n",
       "    <tr>\n",
       "      <th>2</th>\n",
       "      <td>1542617941480333314</td>\n",
       "      <td>Half of it reads like a modern Medium post, th...</td>\n",
       "      <td>301427990</td>\n",
       "      <td>LauraDeming</td>\n",
       "      <td>2022-06-30 21:15:52+00:00</td>\n",
       "      <td>10</td>\n",
       "      <td>0</td>\n",
       "      <td>0</td>\n",
       "      <td>0</td>\n",
       "      <td>NaN</td>\n",
       "      <td>NaN</td>\n",
       "      <td>1542617483420368896</td>\n",
       "      <td>0</td>\n",
       "      <td>0</td>\n",
       "      <td>301427990</td>\n",
       "      <td>0</td>\n",
       "      <td>0</td>\n",
       "      <td>True</td>\n",
       "      <td>True</td>\n",
       "    </tr>\n",
       "    <tr>\n",
       "      <th>3</th>\n",
       "      <td>1542617483420368897</td>\n",
       "      <td>Thanks @michael_nielsen for pointing out that ...</td>\n",
       "      <td>301427990</td>\n",
       "      <td>LauraDeming</td>\n",
       "      <td>2022-06-30 21:14:03+00:00</td>\n",
       "      <td>18</td>\n",
       "      <td>0</td>\n",
       "      <td>2</td>\n",
       "      <td>2</td>\n",
       "      <td>NaN</td>\n",
       "      <td>NaN</td>\n",
       "      <td>1542615757460082688</td>\n",
       "      <td>0</td>\n",
       "      <td>0</td>\n",
       "      <td>301427990</td>\n",
       "      <td>0</td>\n",
       "      <td>0</td>\n",
       "      <td>True</td>\n",
       "      <td>True</td>\n",
       "    </tr>\n",
       "    <tr>\n",
       "      <th>4</th>\n",
       "      <td>1542615757460082688</td>\n",
       "      <td>I wrote a personal post about how 28 feels dif...</td>\n",
       "      <td>301427990</td>\n",
       "      <td>LauraDeming</td>\n",
       "      <td>2022-06-30 21:07:11+00:00</td>\n",
       "      <td>140</td>\n",
       "      <td>0</td>\n",
       "      <td>12</td>\n",
       "      <td>7</td>\n",
       "      <td>NaN</td>\n",
       "      <td>NaN</td>\n",
       "      <td>0</td>\n",
       "      <td>0</td>\n",
       "      <td>0</td>\n",
       "      <td>0</td>\n",
       "      <td>0</td>\n",
       "      <td>0</td>\n",
       "      <td>False</td>\n",
       "      <td>False</td>\n",
       "    </tr>\n",
       "  </tbody>\n",
       "</table>\n",
       "</div>"
      ],
      "text/plain": [
       "                    id                                               text  \\\n",
       "0  1546652638917275649  I'd like to have fluency with basic game theor...   \n",
       "1  1546636515920322560  I wish there was a Serious Eats but for bio pr...   \n",
       "2  1542617941480333314  Half of it reads like a modern Medium post, th...   \n",
       "3  1542617483420368897  Thanks @michael_nielsen for pointing out that ...   \n",
       "4  1542615757460082688  I wrote a personal post about how 28 feels dif...   \n",
       "\n",
       "   author_id author.username                created_at  \\\n",
       "0  301427990     LauraDeming 2022-07-12 00:28:19+00:00   \n",
       "1  301427990     LauraDeming 2022-07-11 23:24:15+00:00   \n",
       "2  301427990     LauraDeming 2022-06-30 21:15:52+00:00   \n",
       "3  301427990     LauraDeming 2022-06-30 21:14:03+00:00   \n",
       "4  301427990     LauraDeming 2022-06-30 21:07:11+00:00   \n",
       "\n",
       "   public_metrics.like_count  public_metrics.quote_count  \\\n",
       "0                         75                           1   \n",
       "1                         20                           0   \n",
       "2                         10                           0   \n",
       "3                         18                           0   \n",
       "4                        140                           0   \n",
       "\n",
       "   public_metrics.reply_count  public_metrics.retweet_count attachments.media  \\\n",
       "0                          13                             1               NaN   \n",
       "1                           3                             1               NaN   \n",
       "2                           0                             0               NaN   \n",
       "3                           2                             2               NaN   \n",
       "4                          12                             7               NaN   \n",
       "\n",
       "  attachments.media_keys  referenced_tweets.replied_to.id  \\\n",
       "0                    NaN                                0   \n",
       "1                    NaN                                0   \n",
       "2                    NaN              1542617483420368896   \n",
       "3                    NaN              1542615757460082688   \n",
       "4                    NaN                                0   \n",
       "\n",
       "   referenced_tweets.retweeted.id  referenced_tweets.quoted.id  \\\n",
       "0                               0                            0   \n",
       "1                               0                            0   \n",
       "2                               0                            0   \n",
       "3                               0                            0   \n",
       "4                               0                            0   \n",
       "\n",
       "   in_reply_to_user_id  retweeted_user_id  quoted_user_id  referenced  \\\n",
       "0                    0                  0               0       False   \n",
       "1                    0                  0               0       False   \n",
       "2            301427990                  0               0        True   \n",
       "3            301427990                  0               0        True   \n",
       "4                    0                  0               0       False   \n",
       "\n",
       "   referenced_authors  \n",
       "0               False  \n",
       "1               False  \n",
       "2                True  \n",
       "3                True  \n",
       "4               False  "
      ]
     },
     "execution_count": 204,
     "metadata": {},
     "output_type": "execute_result"
    }
   ],
   "source": [
    "df_tweets = df_tweets.loc[: ,['id', 'text', 'author_id', 'author.username',  'created_at', \n",
    "                              'public_metrics.like_count', 'public_metrics.quote_count', 'public_metrics.reply_count', \n",
    "                              'public_metrics.retweet_count','attachments.media','attachments.media_keys', 'referenced_tweets.replied_to.id', \n",
    "                              'referenced_tweets.retweeted.id', 'referenced_tweets.quoted.id', 'in_reply_to_user_id','retweeted_user_id', 'quoted_user_id']]\n",
    "\n",
    "\n",
    "df_tweets['created_at'] = pd.to_datetime(df_tweets['created_at'])\n",
    "\n",
    "# merge the tweets with the references\n",
    "ref_cols = ['referenced_tweets.replied_to.id', 'referenced_tweets.retweeted.id', 'referenced_tweets.quoted.id']\n",
    "df_tweets['referenced'] = df_tweets.loc[:, ref_cols].any(axis=1)\n",
    "\n",
    "auth_ref_cols = ['in_reply_to_user_id','retweeted_user_id', 'quoted_user_id']\n",
    "df_tweets['referenced_authors'] = df_tweets.loc[:, auth_ref_cols].any(axis = 1)\n",
    "\n",
    "# convert to int\n",
    "df_tweets.loc[:, ref_cols + auth_ref_cols] = df_tweets.loc[:, ref_cols + auth_ref_cols].fillna(0).astype(int)\n",
    "\n",
    "frac_id = sum(df_tweets['referenced_authors'] == df_tweets['referenced'])/len(df_tweets)\n",
    "print(f\"{frac_id*100:.2f}% of referenced tweets have associated accounts\")\n",
    "\n",
    "# ensure consistency in id/name\n",
    "assert df_tweets.author_id.value_counts().to_list() ==  df_tweets[\"author.username\"].value_counts().to_list()\n",
    "# assert ref/ref author consistency\n",
    "\n",
    "df_tweets.head()"
   ]
  },
  {
   "cell_type": "code",
   "execution_count": 205,
   "id": "0123fc1e",
   "metadata": {},
   "outputs": [
    {
     "data": {
      "text/plain": [
       "(count     2201\n",
       " unique    1720\n",
       " top       [{}]\n",
       " freq       400\n",
       " Name: attachments.media, dtype: object,\n",
       " count                           2201\n",
       " unique                          2190\n",
       " top       [\"13_1529246312641597441\"]\n",
       " freq                               2\n",
       " Name: attachments.media_keys, dtype: object)"
      ]
     },
     "execution_count": 205,
     "metadata": {},
     "output_type": "execute_result"
    }
   ],
   "source": [
    "df_tweets['attachments.media'].describe(), df_tweets['attachments.media_keys'].describe()"
   ]
  },
  {
   "cell_type": "markdown",
   "id": "209d517f",
   "metadata": {},
   "source": [
    "# EDA\n"
   ]
  },
  {
   "cell_type": "code",
   "execution_count": 206,
   "id": "390bb503",
   "metadata": {},
   "outputs": [
    {
     "name": "stdout",
     "output_type": "stream",
     "text": [
      "Percentage of tweets without media: 87.46%\n"
     ]
    }
   ],
   "source": [
    "# Counting \"pure\" tweets\n",
    "# TODO: include/exclude retweets, urls\n",
    "# TODO: use df_tweets.entities.mentions.usernames to exempt from preprocessing\n",
    "\n",
    "n = df_tweets['attachments.media'].isna().sum()/df_tweets.shape[0]\n",
    "print(f\"Percentage of tweets without media: {n:.2%}\")"
   ]
  },
  {
   "cell_type": "code",
   "execution_count": 207,
   "id": "d1089d6f",
   "metadata": {},
   "outputs": [
    {
     "data": {
      "image/png": "[encoded data removed]",
      "text/plain": [
       "<Figure size 432x288 with 1 Axes>"
      ]
     },
     "metadata": {
      "needs_background": "light"
     },
     "output_type": "display_data"
    }
   ],
   "source": [
    "# Normalised hist\n",
    "df_tweets.text.apply(lambda x: len(x.split())).hist()\n",
    "plt.title(\"Tweet length distribution\")\n",
    "plt.xlabel(\"Number of words\")\n",
    "plt.show()"
   ]
  },
  {
   "cell_type": "code",
   "execution_count": 208,
   "id": "191c58fd",
   "metadata": {},
   "outputs": [
    {
     "name": "stdout",
     "output_type": "stream",
     "text": [
      "Dataset size: 3031 tweets, reduced by 14519 tweets\n"
     ]
    }
   ],
   "source": [
    "# Create a Filtered Dataset\n",
    "\n",
    "# Drop one word tweets\n",
    "df_filtered = df_tweets[df_tweets.text.apply(lambda x: len(x.split()))  > 1]\n",
    "\n",
    "# Drop duplicates\n",
    "df_filtered = df_filtered.drop_duplicates(subset=['text'])\n",
    "\n",
    "# Drop referenced tweets\n",
    "df_filtered = df_filtered[df_filtered.referenced == False]\n",
    "\n",
    "# Reset index\n",
    "df_filtered = df_filtered.reset_index(drop=True)\n",
    "\n",
    "print(f\"Dataset size: {df_filtered.shape[0]} tweets, reduced by {df_tweets.shape[0] - df_filtered.shape[0]} tweets\" )"
   ]
  },
  {
   "cell_type": "markdown",
   "id": "3464de5e",
   "metadata": {},
   "source": [
    "# Preprocessing"
   ]
  },
  {
   "cell_type": "code",
   "execution_count": 209,
   "id": "41185504",
   "metadata": {},
   "outputs": [],
   "source": [
    "# Get tweets from 301427990\n",
    "authors = df_filtered['author.username'].value_counts().to_dict()\n",
    "\n",
    "for author in authors.keys():\n",
    "    # Get tweet indices\n",
    "    authors[author] = df_filtered[df_filtered['author.username'] == author].index.to_list()"
   ]
  },
  {
   "cell_type": "code",
   "execution_count": 210,
   "id": "edbd8a27",
   "metadata": {},
   "outputs": [
    {
     "data": {
      "text/plain": [
       "(17550,\n",
       " array([\"I'd like to have fluency with basic game theory well enough to have intuition for the situations presented in Parfit's 'Reasons and Persons'. Any suggestions for a text or tutor?\\\\n\\\\nWant to build really strong, simple intuitions to go with the relevant equations - nothing fancy.\",\n",
       "        'I wish there was a Serious Eats but for bio protocols.',\n",
       "        \"Half of it reads like a modern Medium post, the other half contains such wisdom as\\\\n\\\\n'You should not buy a donkey which brays; it will split (?) your midriff (?).'\\\\n\\\\n'You should not pass judgment when you drink beer.'\\\\n\\\\n'Fate is a wet bank; it can make one slip.'\"],\n",
       "       dtype=object))"
      ]
     },
     "execution_count": 210,
     "metadata": {},
     "output_type": "execute_result"
    }
   ],
   "source": [
    "from sklearn.feature_extraction.text import CountVectorizer, TfidfVectorizer\n",
    "\n",
    "tweets = df_tweets.text.values\n",
    "filtered_tweets = df_filtered.text.values\n",
    "\n",
    "len(tweets), tweets[:3]"
   ]
  },
  {
   "cell_type": "code",
   "execution_count": 211,
   "id": "df4362e1",
   "metadata": {},
   "outputs": [
    {
     "data": {
      "text/plain": [
       "(\"thanks @michael_nielsen for pointing out that many of the first books in history were generic self-help advice pieces, and that i was thus joining a long and venerable tradition.  although i'm not sure one can beat gems from 'instructions of shuruppag'. \",\n",
       " \"Thanks @michael_nielsen for pointing out that many of the first books in history were generic self-help advice pieces, and that I was thus joining a long and venerable tradition.\\\\n\\\\nAlthough I'm not sure one can beat gems from 'instructions of Shuruppag'.\\\\nhttps://t.co/e5Wacy1AIz\")"
      ]
     },
     "execution_count": 211,
     "metadata": {},
     "output_type": "execute_result"
    }
   ],
   "source": [
    "import re\n",
    "\n",
    "def preprocess(text):\n",
    "    text = text.lower()\n",
    "    # remove urls\n",
    "    text = re.sub(r'http\\S+', '', text)\n",
    "    # replace first \\n with space\n",
    "    text = re.sub(r'\\\\n', ' ', text)\n",
    "    \n",
    "    # remove unicode characters, except @ and #\n",
    "    text = re.sub(r'[^\\x00-\\x7f]',r' ', text)\n",
    "\n",
    "    return text\n",
    "\n",
    "t = 3\n",
    "preprocess(tweets[t]), tweets[t]"
   ]
  },
  {
   "cell_type": "markdown",
   "id": "c12fce62",
   "metadata": {},
   "source": [
    "# Doc-Term Similarity"
   ]
  },
  {
   "cell_type": "code",
   "execution_count": 212,
   "id": "9b75a40e",
   "metadata": {},
   "outputs": [],
   "source": [
    "# Tokenize tweets\n",
    "# TODO: investigate nltk vs inbuilt stop_words\n",
    "# TODO: handle @mentions :: named entity recog?\n",
    "\n",
    "vectorizer = CountVectorizer(strip_accents = 'unicode', stop_words='english', preprocessor=preprocess)\n",
    "X = vectorizer.fit_transform(filtered_tweets)\n",
    "\n",
    "# tfidf on tweets\n",
    "tfidf_vectorizer = TfidfVectorizer(strip_accents = 'unicode', stop_words='english', preprocessor=preprocess)\n",
    "tfidf = tfidf_vectorizer.fit_transform(filtered_tweets)\n",
    "\n",
    "assert sum([len(i) for i in authors.values()]) == X.shape[0] and tfidf.shape == X.shape"
   ]
  },
  {
   "cell_type": "code",
   "execution_count": 213,
   "id": "aa5cfd51",
   "metadata": {},
   "outputs": [],
   "source": [
    "# TODO: How similar are tweets from same author? \n",
    "author_docs = dict.fromkeys(authors.keys(), [])\n",
    "\n",
    "for author in authors.keys():\n",
    "    # Sum and average tfidf vectors for each author\n",
    "    mat = tfidf[authors[author], :].sum(axis=0)\n",
    "    author_docs[author] = np.squeeze(np.asarray(mat))\n",
    "\n",
    "# Ensure a nonce has the same tfidf in author_docs and tweet_docs\n",
    "id = tfidf_vectorizer.vocabulary_['intuitions']\n",
    "\n",
    "#  assert mat[:, id].sum() == tfidf[:, id].sum()"
   ]
  },
  {
   "cell_type": "code",
   "execution_count": 214,
   "id": "d27e17d8",
   "metadata": {},
   "outputs": [],
   "source": [
    "# measure distance between tweets\n",
    "from sklearn.metrics.pairwise import cosine_similarity, euclidean_distances\n",
    "\n",
    "docs = np.vstack(list(author_docs.values()))\n",
    "\n",
    "# similarity matrices\n",
    "cosine = cosine_similarity(docs)\n",
    "euclidean = euclidean_distances(docs)"
   ]
  },
  {
   "cell_type": "code",
   "execution_count": 215,
   "id": "7b05fa2d",
   "metadata": {},
   "outputs": [
    {
     "name": "stdout",
     "output_type": "stream",
     "text": [
      "0.44122382169308355 celinehalioua\n",
      "0.4239273718767329 LauraDeming\n",
      "0.4527964132321405 anniefryman\n",
      "1.0000000000000016 rklau\n",
      "0.24254279765505593 hanlonbt\n",
      "0.27820781687401513 ArtirKel\n"
     ]
    },
    {
     "data": {
      "text/plain": [
       "['anniefryman', 'celinehalioua', 'LauraDeming']"
      ]
     },
     "execution_count": 215,
     "metadata": {},
     "output_type": "execute_result"
    }
   ],
   "source": [
    "def most_similar(author :int, sim_mat: np.array, n = 2):\n",
    "    # return most similar author\n",
    "    i = list(author_docs.keys()).index(author)\n",
    "    \n",
    "    v = sim_mat[i, :]\n",
    "\n",
    "    if sim_mat.min() == 0:\n",
    "        # Euclidean\n",
    "        v = np.argsort(v)\n",
    "    else:\n",
    "        # Cosine\n",
    "        v = np.argsort(v)[::-1]\n",
    "\n",
    "    auth_idxs = v[1:n+1]\n",
    "    auths = [list(author_docs.keys())[i] for i in auth_idxs]\n",
    "    \n",
    "    return auths\n",
    "\n",
    "long_users = ['celinehalioua', 'ArtirKel', 'LauraDeming']\n",
    "ca_users = ['anniefryman', 'rklau', 'hanlonbt' ]\n",
    "\n",
    "# sanity check\n",
    "for a in author_docs.keys():\n",
    "    x = np.vstack([author_docs['rklau'], author_docs[a]])\n",
    "\n",
    "    # Cosine similarity\n",
    "    print(cosine_similarity(x)[0,1], a)\n",
    "\n",
    "most_similar('rklau', cosine, 3)"
   ]
  },
  {
   "cell_type": "code",
   "execution_count": 216,
   "id": "1212425e",
   "metadata": {},
   "outputs": [
    {
     "data": {
      "text/plain": [
       "1"
      ]
     },
     "execution_count": 216,
     "metadata": {},
     "output_type": "execute_result"
    }
   ],
   "source": [
    "def completion_accuracy(source_acc: str, recs: list):\n",
    "    # source_acc = account to recommend from\n",
    "    # recs = list of recommended accounts\n",
    "    # returns TP count\n",
    "\n",
    "    if source_acc in long_users:\n",
    "        target_set = set(long_users)\n",
    "    elif source_acc in ca_users:\n",
    "        target_set = set(ca_users)\n",
    "    else:\n",
    "        raise ValueError(\"source_acc not in any set\")\n",
    "    \n",
    "    target_set.remove(source_acc)\n",
    "    tp = len(set(recs).intersection(target_set))\n",
    "    return tp\n",
    "\n",
    "completion_accuracy('rklau', most_similar('rklau', cosine, 3))"
   ]
  },
  {
   "cell_type": "code",
   "execution_count": 217,
   "id": "406ca9ce",
   "metadata": {},
   "outputs": [
    {
     "data": {
      "text/plain": [
       "0.4"
      ]
     },
     "execution_count": 217,
     "metadata": {},
     "output_type": "execute_result"
    }
   ],
   "source": [
    "from math import perm\n",
    "from itertools import permutations\n",
    "\n",
    "# Generalises to n authors\n",
    "def random_acc(n_authors: int, n_recs: int) -> float:\n",
    "    # Return accuracy of random assignment\n",
    "    # eg P(1/2 correct AND 2/2 correct) = 1 - P(0/2 correct) = 1 - (n-r)/n\n",
    "\n",
    "    # Total authors to recommend from, exempting source\n",
    "    n = n_authors - 1\n",
    "    # Number of recommendations to make\n",
    "    r = n_recs\n",
    "\n",
    "    return 1 - (n - r)/n\n",
    "\n",
    "    # i is number of true positives\n",
    "    p_0 = 0\n",
    "    for i in range(1, r+1):\n",
    "\n",
    "        base_arr = np.zeros(r)\n",
    "        base_arr[:i] = 1\n",
    "\n",
    "        perms = list(set(permutations(base_arr, r)))\n",
    "\n",
    "        p_1 = 0\n",
    "        for permutation in perms: \n",
    "            p_2 = 1\n",
    "            for idx,p in enumerate(permutation):\n",
    "                if p == 1:\n",
    "                    p_2 *= 1/(n-idx)\n",
    "                elif p == 0:\n",
    "                    p_2 *= (n-idx-1)/(n-idx)\n",
    "            p_1 += p_2\n",
    "        p_0 += p_1\n",
    "\n",
    "    return p_0\n",
    "\n",
    "\n",
    "random_acc(6, 2)"
   ]
  },
  {
   "cell_type": "code",
   "execution_count": 218,
   "id": "b9b0a0cd",
   "metadata": {},
   "outputs": [
    {
     "name": "stdout",
     "output_type": "stream",
     "text": [
      "Similarity  | anniefryman -> ['rklau', 'celinehalioua'] : 1\n",
      "Random      | anniefryman -> ['celinehalioua', 'LauraDeming'] : 0 \n",
      "\n",
      "Similarity  | rklau -> ['anniefryman', 'celinehalioua'] : 1\n",
      "Random      | rklau -> ['LauraDeming', 'ArtirKel'] : 0 \n",
      "\n",
      "Similarity  | hanlonbt -> ['anniefryman', 'rklau'] : 2\n",
      "Random      | hanlonbt -> ['celinehalioua', 'anniefryman'] : 1 \n",
      "\n",
      "Similarity  | celinehalioua -> ['LauraDeming', 'anniefryman'] : 1\n",
      "Random      | celinehalioua -> ['anniefryman', 'rklau'] : 0 \n",
      "\n",
      "Similarity  | ArtirKel -> ['LauraDeming', 'celinehalioua'] : 2\n",
      "Random      | ArtirKel -> ['celinehalioua', 'rklau'] : 1 \n",
      "\n",
      "Similarity  | LauraDeming -> ['celinehalioua', 'rklau'] : 1\n",
      "Random      | LauraDeming -> ['celinehalioua', 'hanlonbt'] : 1 \n",
      "\n",
      "Accuracy for 2 recommendations\n",
      "\t Doc-Term Similarity Recommendation: 66.67%\n",
      "\t (Empirical) Random Assignment: 25.00%\n",
      "\t (Analytical) Random Assignment: 40.00%\n"
     ]
    }
   ],
   "source": [
    "def accuracy(accounts: list, sim_mat, n_rec = 3, show_outputs = False):\n",
    "    accs = []\n",
    "    for rec in range(1, n_rec+1):\n",
    "        tp = 0\n",
    "        rand_p = 0\n",
    "        n_acc = len(accounts)\n",
    "        \n",
    "        # each account(acc) is a seed for rec(int) account recommendations\n",
    "        for acc in accounts:\n",
    "            \n",
    "            # create a list of rec(int) accounts\n",
    "            recs = most_similar(acc, sim_mat, n=rec)\n",
    "            # measure hit rate\n",
    "            hits = completion_accuracy(acc, recs)\n",
    "\n",
    "            rand_recs = [accounts[i] for i in np.random.choice(n_acc, rec, replace=False)]\n",
    "            while acc in rand_recs:\n",
    "                rand_recs = [accounts[i] for i in np.random.choice(n_acc, rec, replace=False)]\n",
    "            rand_hits = completion_accuracy(acc, rand_recs)\n",
    "            \n",
    "            if rec == 2:\n",
    "                print(f\"Similarity  | {acc} -> {recs} : {hits}\")\n",
    "                print(f\"Random      | {acc} -> {rand_recs} : {rand_hits} \\n\")\n",
    "\n",
    "            tp += hits\n",
    "            rand_p += rand_hits\n",
    "        \n",
    "        accuracy = tp/(2*n_acc)\n",
    "        accs.append(accuracy)\n",
    "        rand_accuracy = rand_p/(2*n_acc)\n",
    "\n",
    "        if show_outputs or rec == 2:\n",
    "            print(f\"Accuracy for {rec} recommendation{'s' if rec > 1 else ''}\")\n",
    "            print(f\"\\t Doc-Term Similarity Recommendation: {accuracy:.2%}\")\n",
    "            print(f\"\\t (Empirical) Random Assignment: {rand_accuracy:.2%}\")\n",
    "            print(f\"\\t (Analytical) Random Assignment: {random_acc(len(accounts),rec):.2%}\")\n",
    "    return accs\n",
    "\n",
    "\n",
    "accounts = ca_users + long_users\n",
    "cosine_accuracies = accuracy(accounts, sim_mat = cosine, n_rec = 5)"
   ]
  },
  {
   "cell_type": "code",
   "execution_count": 219,
   "id": "b9a7d14c",
   "metadata": {},
   "outputs": [
    {
     "name": "stdout",
     "output_type": "stream",
     "text": [
      "Similarity  | anniefryman -> ['rklau', 'ArtirKel'] : 1\n",
      "Random      | anniefryman -> ['ArtirKel', 'hanlonbt'] : 1 \n",
      "\n",
      "Similarity  | rklau -> ['ArtirKel', 'anniefryman'] : 1\n",
      "Random      | rklau -> ['LauraDeming', 'ArtirKel'] : 0 \n",
      "\n",
      "Similarity  | hanlonbt -> ['ArtirKel', 'rklau'] : 1\n",
      "Random      | hanlonbt -> ['anniefryman', 'LauraDeming'] : 1 \n",
      "\n",
      "Similarity  | celinehalioua -> ['LauraDeming', 'anniefryman'] : 1\n",
      "Random      | celinehalioua -> ['LauraDeming', 'hanlonbt'] : 1 \n",
      "\n",
      "Similarity  | ArtirKel -> ['rklau', 'hanlonbt'] : 0\n",
      "Random      | ArtirKel -> ['hanlonbt', 'LauraDeming'] : 1 \n",
      "\n",
      "Similarity  | LauraDeming -> ['rklau', 'ArtirKel'] : 1\n",
      "Random      | LauraDeming -> ['rklau', 'hanlonbt'] : 0 \n",
      "\n",
      "Accuracy for 2 recommendations\n",
      "\t Doc-Term Similarity Recommendation: 41.67%\n",
      "\t (Empirical) Random Assignment: 33.33%\n",
      "\t (Analytical) Random Assignment: 40.00%\n"
     ]
    }
   ],
   "source": [
    "euclidean_accuracies = accuracy(accounts, sim_mat = euclidean, n_rec = 5)"
   ]
  },
  {
   "cell_type": "code",
   "execution_count": 220,
   "id": "0cc6945b",
   "metadata": {},
   "outputs": [
    {
     "data": {
      "image/png": "[encoded data removed]",
      "text/plain": [
       "<Figure size 432x288 with 1 Axes>"
      ]
     },
     "metadata": {
      "needs_background": "light"
     },
     "output_type": "display_data"
    }
   ],
   "source": [
    "# See how accuracy scales with n\n",
    "n_authors = 6\n",
    "n_recs = range(1, n_authors)\n",
    "\n",
    "random_accs = [random_acc(n_authors, n) for n in n_recs]\n",
    "\n",
    "# plot\n",
    "plt.plot(n_recs, random_accs, label = 'Random Assignment')\n",
    "# plot docterm accuracy\n",
    "plt.plot(n_recs, euclidean_accuracies, label='Doc-Term Similarity (Euclidean)')\n",
    "plt.plot(n_recs, cosine_accuracies, label='Doc-Term Similarity (Cosine)')\n",
    "\n",
    "plt.xlabel('Number of recommendations')\n",
    "plt.ylabel('Accuracy')\n",
    "plt.title(f\"Accuracy of Recommendation \\n n_authors = {n_authors}\")\n",
    "\n",
    "\n",
    "plt.legend()\n",
    "plt.show()"
   ]
  },
  {
   "cell_type": "code",
   "execution_count": 221,
   "id": "b6d119de",
   "metadata": {},
   "outputs": [
    {
     "data": {
      "image/png": "[encoded data removed]",
      "text/plain": [
       "<Figure size 432x288 with 1 Axes>"
      ]
     },
     "metadata": {
      "needs_background": "light"
     },
     "output_type": "display_data"
    }
   ],
   "source": [
    "# See how accuracy scales with n_authors\n",
    "n_authors = np.linspace(3, 100)\n",
    "n_recs = 2\n",
    "\n",
    "random_accs = [random_acc(n, n_recs) for n in n_authors]\n",
    "\n",
    "plt.plot(n_authors, random_accs, label = 'Random Assignment')\n",
    "plt.xlabel('Number of authors')\n",
    "plt.ylabel('Accuracy')\n",
    "plt.title(f\"Accuracy of Recommendation \\n n_recs = {n_recs}\")\n",
    "plt.legend()\n",
    "plt.show()"
   ]
  },
  {
   "cell_type": "markdown",
   "id": "2616f36a",
   "metadata": {},
   "source": [
    "# Social-Content Tweet Graph"
   ]
  },
  {
   "cell_type": "markdown",
   "id": "1457e155",
   "metadata": {},
   "source": [
    "## Seed Origin Graph"
   ]
  },
  {
   "cell_type": "code",
   "execution_count": 222,
   "id": "5d61070b",
   "metadata": {},
   "outputs": [
    {
     "data": {
      "text/plain": [
       "(rklau            4479\n",
       " celinehalioua    2249\n",
       " hanlonbt         2132\n",
       " anniefryman      1371\n",
       " ArtirKel          919\n",
       " LauraDeming       140\n",
       " Name: referencer.username, dtype: int64,\n",
       " celinehalioua    3248\n",
       " ArtirKel         3238\n",
       " anniefryman      3209\n",
       " rklau            3200\n",
       " hanlonbt         3198\n",
       " LauraDeming      1457\n",
       " Name: author.username, dtype: int64)"
      ]
     },
     "execution_count": 222,
     "metadata": {},
     "output_type": "execute_result"
    }
   ],
   "source": [
    "import networkx as nx\n",
    "\n",
    "usernames = long_users + ca_users\n",
    "\n",
    "# sanity checks\n",
    "\n",
    "# total following count\n",
    "df_following['referencer.username'].value_counts(), df_tweets['author.username'].value_counts()"
   ]
  },
  {
   "cell_type": "code",
   "execution_count": 223,
   "id": "1babdb87",
   "metadata": {},
   "outputs": [],
   "source": [
    "G = nx.DiGraph()\n",
    "\n",
    "tweet_nodes = [(i, {\"tweet\": text})\n",
    "               for i, text in zip(df_tweets.id, df_tweets.text)]\n",
    "author_nodes = [(i, {\"user\": name}) for i, name in zip(\n",
    "    df_tweets.author_id, df_tweets[\"author.username\"])]\n",
    "usernameToId = {data['user']: i for i, data in author_nodes}\n",
    "\n",
    "assert len(np.unique([i[0] for i in author_nodes])) == 6\n",
    "\n",
    "G.add_nodes_from(tweet_nodes), G.add_nodes_from(author_nodes)\n",
    "\n",
    "\n",
    "# add content graph\n",
    "for i, row in df_tweets.iterrows():\n",
    "    # pure tweet\n",
    "    G.add_edge(row.author_id, row.id, relation=\"tweeted\")\n",
    "\n",
    "    if row.referenced:\n",
    "        for ref in ref_cols:\n",
    "            if row[ref] != 0:\n",
    "                # id of tweet being referenced\n",
    "                ref_tweet = row[ref]\n",
    "                ref_type = ref.split(\".\")[1].split(\"_\")[0]\n",
    "\n",
    "                # Add reference tweet to graph\n",
    "                G.add_node(row[ref], tweet=f\"N/A\")\n",
    "                G.add_edge(row.id, row[ref], relation=ref_type)\n",
    "\n",
    "                # Add author of referenced tweet to graph\n",
    "                ref_source_acc = row[auth_ref_cols].values.any()\n",
    "\n",
    "                G.add_node(ref_source_acc, user=f\"N/A\")\n",
    "                G.add_edge(ref_source_acc, row[ref], relation=\"tweeted\")\n",
    "        \n",
    "\n",
    "# add social graph\n",
    "for i, row in df_following.iterrows():\n",
    "\n",
    "    follower = usernameToId[row[\"referencer.username\"]]\n",
    "    author = (row.id, {\"user\": row.username})\n",
    "\n",
    "    G.add_nodes_from([author])\n",
    "    G.add_edge(follower, author[0], relation=\"follows\")\n"
   ]
  },
  {
   "cell_type": "code",
   "execution_count": 224,
   "id": "85ff1624",
   "metadata": {},
   "outputs": [
    {
     "data": {
      "text/plain": [
       "679"
      ]
     },
     "execution_count": 224,
     "metadata": {},
     "output_type": "execute_result"
    }
   ],
   "source": [
    "df_tweets.loc[df_tweets[\"author.username\"] == \"LauraDeming\", \"referenced\"].sum()"
   ]
  },
  {
   "cell_type": "markdown",
   "id": "b19be0dc",
   "metadata": {},
   "source": [
    "## Graph Descriptive Statistics"
   ]
  },
  {
   "cell_type": "code",
   "execution_count": 225,
   "id": "b18d4bdd",
   "metadata": {},
   "outputs": [
    {
     "name": "stdout",
     "output_type": "stream",
     "text": [
      "Number of nodes: 43297\n",
      "Node types: \t {'tweet': 31089, 'user': 12208}\n",
      "\n",
      "Number of edges: 57265\n",
      "Edge types: \t {'replied': 10681, 'retweeted': 2534, 'quoted': 1583, 'tweeted': 31177, 'follows': 11290}\n",
      "Density: \t 3.054806348717322e-05\n",
      "Avg. # edges:\t 1.3226089567406518\n"
     ]
    },
    {
     "data": {
      "image/png": "[encoded data removed]",
      "text/plain": [
       "<Figure size 432x288 with 1 Axes>"
      ]
     },
     "metadata": {
      "needs_background": "light"
     },
     "output_type": "display_data"
    }
   ],
   "source": [
    "from collections import Counter\n",
    "\n",
    "# Descriptive Stats\n",
    "def describe_graph(G : nx.Graph):\n",
    "    print(f\"Number of nodes: {G.number_of_nodes()}\")\n",
    "    node_types = dict(Counter([\"\".join(i[1].keys()) for i in G.nodes(data=True)]))\n",
    "    print(f\"Node types: \\t {node_types}\")\n",
    "\n",
    "    print(f\"\\nNumber of edges: {G.number_of_edges()}\")\n",
    "    edge_types = dict(Counter([\"\".join(i[2].values()) for i in G.edges(data=True)]))\n",
    "    print(f\"Edge types: \\t {edge_types}\")\n",
    "    \n",
    "    print(f\"Density: \\t {nx.density(G)}\")\n",
    "    print(f\"Avg. # edges:\\t {len(G.edges)/G.number_of_nodes()}\")\n",
    "    \n",
    "    # node degree distribution\n",
    "    deg, cnt = np.unique(sorted((d for n, d in G.degree()), reverse=True), return_counts=True)\n",
    "    plt.loglog(deg, cnt, 'o-')\n",
    "    plt.xlabel('Degree')\n",
    "    plt.ylabel('Count')\n",
    "    plt.title(\"Degree Distribution\")\n",
    "    plt.show()\n",
    "describe_graph(G)"
   ]
  },
  {
   "cell_type": "code",
   "execution_count": 229,
   "id": "36c6b280",
   "metadata": {},
   "outputs": [
    {
     "name": "stdout",
     "output_type": "stream",
     "text": [
      "ID: \t \t 301427990\n",
      "Username: \t LauraDeming\n",
      "Total Edges: \t 1718\n",
      "Edge Types: \t {'tweeted': 1578, 'follows': 140}\n",
      "\n",
      "Pure Tweets: \t 899\n",
      "Ref Tweets:  \t 679\n",
      "% Pure: \t 56.97%\n"
     ]
    }
   ],
   "source": [
    "# pure tweets vs tweets with references\n",
    "def is_pure(tweet_id: int, G: nx.Graph):\n",
    "    # A pure tweet is a tweet that has no references/outgoing edges\n",
    "    return len(G.edges(tweet_id, data=True)) == 0\n",
    "\n",
    "def describe_node(node: str or int,  G: nx.Graph, data = False):\n",
    "    # Summary stats on an individual author node\n",
    "    if type(node) == str:\n",
    "        username = node\n",
    "        user_id = usernameToId[username]\n",
    "        print(f\"ID: \\t \\t {user_id}\")\n",
    "        edges = G.edges(user_id, data=True)\n",
    "        print(f\"Username: \\t {username}\")\n",
    "    else: \n",
    "        edges = G.edges(node, data=True)\n",
    "    \n",
    "\n",
    "    tweets = set(i[1] for i in edges if i[2].get('relation') == 'tweeted')\n",
    "\n",
    "    pure_tweets = set(i for i in tweets if is_pure(i, G))\n",
    "    ref_tweets  = tweets - pure_tweets\n",
    "\n",
    "    if data: \n",
    "        return {\"pure\": list(pure_tweets), \"refs\": list(ref_tweets)}\n",
    "\n",
    "    # Statistics on edges\n",
    "    print(f\"Total Edges: \\t {len(edges)}\")\n",
    "    # Count of each edge type\n",
    "    print(f\"Edge Types: \\t {dict(Counter([i[2]['relation'] for i in edges]))}\")\n",
    "    print(f\"\\nPure Tweets: \\t {len(pure_tweets)}\")\n",
    "    print(f\"Ref Tweets:  \\t {len(ref_tweets)}\")\n",
    "    print(f\"% Pure: \\t {(len(pure_tweets)/len(tweets))*100:.2f}%\")\n",
    "    return\n",
    "\n",
    "\n",
    "describe_node(\"LauraDeming\", G)"
   ]
  },
  {
   "cell_type": "markdown",
   "id": "87ea5467",
   "metadata": {},
   "source": [
    "## Social-Content Subgraph\n",
    "Isolate account - tweet - account links. \n",
    "Treat \"Pure Tweets\" as aggregates to process. "
   ]
  },
  {
   "cell_type": "code",
   "execution_count": 227,
   "id": "c926c341",
   "metadata": {},
   "outputs": [],
   "source": [
    "subgraph_nodes = []\n",
    "\n",
    "source_authors = np.unique([i for i,j in author_nodes])\n",
    "\n",
    "for a in source_authors: \n",
    "    subgraph_nodes.append(a)\n",
    "\n",
    "    tweet_breakdown = describe_node(a, G, data=True)\n",
    "\n",
    "    for ref_tweet in tweet_breakdown[\"refs\"]:\n",
    "        subgraph_nodes.append(ref_tweet)"
   ]
  },
  {
   "cell_type": "code",
   "execution_count": 228,
   "id": "cc27cde0",
   "metadata": {},
   "outputs": [
    {
     "data": {
      "image/png": "[encoded data removed]",
      "text/plain": [
       "<Figure size 432x288 with 1 Axes>"
      ]
     },
     "metadata": {},
     "output_type": "display_data"
    }
   ],
   "source": [
    "subgraph = G.subgraph((301427990))\n",
    "\n",
    "nx.draw(subgraph, with_labels=True)"
   ]
  }
 ],
 "metadata": {
  "kernelspec": {
   "display_name": "Python 3.9.7 ('base')",
   "language": "python",
   "name": "python3"
  },
  "language_info": {
   "codemirror_mode": {
    "name": "ipython",
    "version": 3
   },
   "file_extension": ".py",
   "mimetype": "text/x-python",
   "name": "python",
   "nbconvert_exporter": "python",
   "pygments_lexer": "ipython3",
   "version": "3.9.7"
  },
  "vscode": {
   "interpreter": {
    "hash": "17114df6d96c3e1cb60efbd1ebfe6c037166772d51ada9a279fe71a9eeac778c"
   }
  }
 },
 "nbformat": 4,
 "nbformat_minor": 5
}
