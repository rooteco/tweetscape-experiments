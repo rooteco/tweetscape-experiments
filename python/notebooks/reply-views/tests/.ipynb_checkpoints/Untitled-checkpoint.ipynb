{
 "cells": [
  {
   "cell_type": "code",
   "execution_count": 1,
   "id": "e336fdd6-7587-4497-9bff-c3b82d886bdb",
   "metadata": {},
   "outputs": [],
   "source": [
    "import pandas as pd"
   ]
  },
  {
   "cell_type": "code",
   "execution_count": 2,
   "id": "a3160c6d-0f52-440c-ba2b-fb5b2f16aace",
   "metadata": {},
   "outputs": [],
   "source": [
    "df = pd.read_csv(\"self-reply.csv\")"
   ]
  },
  {
   "cell_type": "code",
   "execution_count": 6,
   "id": "00c60a7f-1b14-4f4d-9e8b-e8bbcaf253b4",
   "metadata": {},
   "outputs": [
    {
     "data": {
      "text/plain": [
       "'https://twitter.com/goblinodds/status/1539729495883583488'"
      ]
     },
     "execution_count": 6,
     "metadata": {},
     "output_type": "execute_result"
    }
   ],
   "source": [
    "df[\"tweet_link\"] = df.apply(lambda row: f\"https://twitter.com/{row['author.username']}/status/{row.id}\", axis=1)\n",
    "df.iloc[1].tweet_link\n"
   ]
  },
  {
   "cell_type": "code",
   "execution_count": null,
   "id": "5a47ebab-8834-4f43-bbfa-723d135656ab",
   "metadata": {},
   "outputs": [],
   "source": []
  }
 ],
 "metadata": {
  "kernelspec": {
   "display_name": "Python 3 (ipykernel)",
   "language": "python",
   "name": "python3"
  },
  "language_info": {
   "codemirror_mode": {
    "name": "ipython",
    "version": 3
   },
   "file_extension": ".py",
   "mimetype": "text/x-python",
   "name": "python",
   "nbconvert_exporter": "python",
   "pygments_lexer": "ipython3",
   "version": "3.10.0"
  }
 },
 "nbformat": 4,
 "nbformat_minor": 5
}
