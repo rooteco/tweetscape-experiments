{
 "cells": [
  {
   "cell_type": "markdown",
   "id": "3700f748-6492-45c5-aa79-95bbb96c0224",
   "metadata": {},
   "source": [
    "## Special Cases\n",
    "\n",
    "this tweet is kind of a self reply: https://twitter.com/goblinodds/status/1539729495883583488?s=20&t=nlRVBzUc8rFeQx8LLLPaEg, but it also includes another user, so the code currently counts it as a reply only, which I am okay with for now... \n",
    "\n"
   ]
  },
  {
   "cell_type": "code",
   "execution_count": 1,
   "id": "e336fdd6-7587-4497-9bff-c3b82d886bdb",
   "metadata": {},
   "outputs": [],
   "source": [
    "import pandas as pd"
   ]
  },
  {
   "cell_type": "code",
   "execution_count": 2,
   "id": "a3160c6d-0f52-440c-ba2b-fb5b2f16aace",
   "metadata": {},
   "outputs": [],
   "source": [
    "df = pd.read_csv(\"self-reply.csv\")"
   ]
  },
  {
   "cell_type": "code",
   "execution_count": 5,
   "id": "00c60a7f-1b14-4f4d-9e8b-e8bbcaf253b4",
   "metadata": {},
   "outputs": [
    {
     "name": "stdout",
     "output_type": "stream",
     "text": [
      "0    self-reply\n",
      "1         reply\n",
      "2    self-reply\n",
      "3         reply\n",
      "Name: tweet_type, dtype: object\n"
     ]
    },
    {
     "data": {
      "text/plain": [
       "'https://twitter.com/goblinodds/status/1539729495883583488'"
      ]
     },
     "execution_count": 5,
     "metadata": {},
     "output_type": "execute_result"
    }
   ],
   "source": [
    "df[\"tweet_link\"] = df.apply(lambda row: f\"https://twitter.com/{row['author.username']}/status/{row.id}\", axis=1)\n",
    "print(df[\"tweet_type\"])\n",
    "df.iloc[1].tweet_link\n"
   ]
  },
  {
   "cell_type": "code",
   "execution_count": 7,
   "id": "4acf2d1b-ab18-4bdb-be45-f8cfb9609fae",
   "metadata": {},
   "outputs": [
    {
     "data": {
      "text/plain": [
       "[{'start': 0,\n",
       "  'end': 13,\n",
       "  'username': 'fun_vampire0',\n",
       "  'id': '1443175286581911558',\n",
       "  'profile_image_url': 'https://pbs.twimg.com/profile_images/1506300326617432072/WpiGhMxo_normal.jpg',\n",
       "  'name': 'part of your in group',\n",
       "  'protected': False,\n",
       "  'url': '',\n",
       "  'location': 'Uqbar ',\n",
       "  'created_at': '2021-09-29T11:26:40.000Z',\n",
       "  'verified': False,\n",
       "  'public_metrics': {'followers_count': 194,\n",
       "   'following_count': 1156,\n",
       "   'tweet_count': 9002,\n",
       "   'listed_count': 3},\n",
       "  'description': 'I used to be someone, now I am someone else. I retweet stupid things, and make annoying observations.'}]"
      ]
     },
     "execution_count": 7,
     "metadata": {},
     "output_type": "execute_result"
    }
   ],
   "source": [
    "import json \n",
    "df[\"entities.mentions\"].iloc[1]\n",
    "\n",
    "mentions = json.loads(df[\"entities.mentions\"].iloc[1])\n",
    "mentions"
   ]
  },
  {
   "cell_type": "code",
   "execution_count": 8,
   "id": "926833a1-dd30-4691-af22-fabaeefb491d",
   "metadata": {},
   "outputs": [
    {
     "data": {
      "text/plain": [
       "Index(['Unnamed: 0', 'id', 'conversation_id',\n",
       "       'referenced_tweets.replied_to.id', 'referenced_tweets.retweeted.id',\n",
       "       'referenced_tweets.quoted.id', 'author_id', 'in_reply_to_user_id',\n",
       "       'retweeted_user_id', 'quoted_user_id', 'created_at', 'text', 'lang',\n",
       "       'source', 'public_metrics.like_count', 'public_metrics.quote_count',\n",
       "       'public_metrics.reply_count', 'public_metrics.retweet_count',\n",
       "       'reply_settings', 'possibly_sensitive', 'withheld.scope',\n",
       "       'withheld.copyright', 'withheld.country_codes', 'entities.annotations',\n",
       "       'entities.cashtags', 'entities.hashtags', 'entities.mentions',\n",
       "       'entities.urls', 'context_annotations', 'attachments.media',\n",
       "       'attachments.media_keys', 'attachments.poll.duration_minutes',\n",
       "       'attachments.poll.end_datetime', 'attachments.poll.id',\n",
       "       'attachments.poll.options', 'attachments.poll.voting_status',\n",
       "       'attachments.poll_ids', 'author.id', 'author.created_at',\n",
       "       'author.username', 'author.name', 'author.description',\n",
       "       'author.entities.description.cashtags',\n",
       "       'author.entities.description.hashtags',\n",
       "       'author.entities.description.mentions',\n",
       "       'author.entities.description.urls', 'author.entities.url.urls',\n",
       "       'author.location', 'author.pinned_tweet_id', 'author.profile_image_url',\n",
       "       'author.protected', 'author.public_metrics.followers_count',\n",
       "       'author.public_metrics.following_count',\n",
       "       'author.public_metrics.listed_count',\n",
       "       'author.public_metrics.tweet_count', 'author.url', 'author.verified',\n",
       "       'author.withheld.scope', 'author.withheld.copyright',\n",
       "       'author.withheld.country_codes', 'geo.coordinates.coordinates',\n",
       "       'geo.coordinates.type', 'geo.country', 'geo.country_code',\n",
       "       'geo.full_name', 'geo.geo.bbox', 'geo.geo.type', 'geo.id', 'geo.name',\n",
       "       'geo.place_id', 'geo.place_type', '__twarc.retrieved_at', '__twarc.url',\n",
       "       '__twarc.version', 'Unnamed: 74', 'tweet_link', 'tweet_type'],\n",
       "      dtype='object')"
      ]
     },
     "execution_count": 8,
     "metadata": {},
     "output_type": "execute_result"
    }
   ],
   "source": [
    "df.columns"
   ]
  },
  {
   "cell_type": "code",
   "execution_count": null,
   "id": "5a47ebab-8834-4f43-bbfa-723d135656ab",
   "metadata": {},
   "outputs": [],
   "source": [
    "def extract_tweet_type(row):\n",
    "    \"\"\"\n",
    "    Current Categories are \n",
    "    reply - reply that doesn't include a quoted tweet (I could expand to include mentions, but I don't feel like it right now)                 \n",
    "    rt                     \n",
    "    qt,reply - reply tweet that includes a quoted tweet\n",
    "    standalone - classic tweet, just text          \n",
    "    self-reply - reply to yourself          \n",
    "    qt                     \n",
    "    standalone,mention - classic tweet, but you also mention another user  \n",
    "    qt,self-reply - quote tweet in reply to your own account      \n",
    "    qt,mention - quote tweet where you mention another account, not a reply \n",
    "    \"\"\"\n",
    "    standalone = \"standalone,\"\n",
    "    reply = \"reply,\"\n",
    "    rt = \"rt,\"\n",
    "    qt = \"qt,\"\n",
    "    mention = \"mention,\"\n",
    "    \n",
    "    type_str = \"\"\n",
    "    \n",
    "    ## Standalone means that there is no in_reply_to_user_id or a referenced_tweet\n",
    "    if (\n",
    "        pd.isna(row[\"in_reply_to_user_id\"]) and \n",
    "        pd.isna(row['referenced_tweets.replied_to.id']) and \n",
    "        pd.isna(row['referenced_tweets.retweeted.id']) and \n",
    "        pd.isna(row['referenced_tweets.quoted.id'])\n",
    "    ):\n",
    "        type_str += standalone\n",
    "        \n",
    "        if not pd.isna(row[\"entities.mentions\"]):\n",
    "            type_str += mention\n",
    "    \n",
    "    ## I think this is a special case where user starts there own standlone tweet with a mention, so twitter reads it weird\n",
    "    # Here is an example: https://twitter.com/deepfates/status/1536434435075280898, it starts with a mention, with twitter reads into the in_reply_to_user_id field\n",
    "    elif pd.isna(row['referenced_tweets.replied_to.id']) and not pd.isna(row[\"in_reply_to_user_id\"]):\n",
    "        type_str += standalone\n",
    "        type_str += mention \n",
    "    \n",
    "    ## Retweet\n",
    "    elif not pd.isna(row['referenced_tweets.retweeted.id']):\n",
    "        type_str += rt \n",
    "    \n",
    "    ## Quote Tweet \n",
    "    elif not pd.isna(row['referenced_tweets.quoted.id']):\n",
    "        type_str += qt \n",
    "        \n",
    "        ## Quote Tweet that is a reply \n",
    "        if not pd.isna(row['referenced_tweets.replied_to.id']):\n",
    "            if pd.isna(row[\"entities.mentions\"]):\n",
    "                type_str += \"self-reply,\"\n",
    "            else:\n",
    "                type_str += reply\n",
    "        elif not pd.isna(row[\"entities.mentions\"]): ## This logic is shaky\n",
    "            type_str += mention\n",
    "    \n",
    "    ## Replies\n",
    "    elif not pd.isna(row['referenced_tweets.replied_to.id']):\n",
    "        if pd.isna(row[\"entities.mentions\"]):\n",
    "            type_str += \"self-reply,\"\n",
    "        else:\n",
    "            type_str += reply\n",
    "        \n",
    "    return type_str[:-1]"
   ]
  }
 ],
 "metadata": {
  "kernelspec": {
   "display_name": "Python 3 (ipykernel)",
   "language": "python",
   "name": "python3"
  },
  "language_info": {
   "codemirror_mode": {
    "name": "ipython",
    "version": 3
   },
   "file_extension": ".py",
   "mimetype": "text/x-python",
   "name": "python",
   "nbconvert_exporter": "python",
   "pygments_lexer": "ipython3",
   "version": "3.10.0"
  }
 },
 "nbformat": 4,
 "nbformat_minor": 5
}
