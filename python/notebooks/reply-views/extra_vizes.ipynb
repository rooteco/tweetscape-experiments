{
 "cells": [
  {
   "cell_type": "markdown",
   "id": "6e640245-3ad4-4191-b436-a3b72395cdad",
   "metadata": {},
   "source": [
    "Don't want to compeltely get rid of these yet, but don't want them in the main notebook"
   ]
  },
  {
   "cell_type": "code",
   "execution_count": null,
   "id": "10344e45-6f42-465e-a52b-7db461bad32f",
   "metadata": {},
   "outputs": [],
   "source": []
  },
  {
   "cell_type": "code",
   "execution_count": null,
   "id": "a2ee294f-f075-497d-a00f-7058abca9266",
   "metadata": {},
   "outputs": [],
   "source": []
  },
  {
   "cell_type": "code",
   "execution_count": null,
   "id": "bd8e4e24-de26-4c75-a249-da539b279aba",
   "metadata": {},
   "outputs": [],
   "source": []
  },
  {
   "cell_type": "code",
   "execution_count": null,
   "id": "aa577798-43bd-4181-b362-f48e892af3b8",
   "metadata": {},
   "outputs": [],
   "source": [
    "## Num Tweets Per User By Hours\n",
    "\n",
    "plot_df = df_f_tweets.groupby([\"author.username\", \"created_at.hour\"]).count()[\"id\"].sort_values(ascending=False).reset_index()\n",
    "\n",
    "fig = px.bar(plot_df[plot_df[\"id\"] > 0], x=\"created_at.hour\", y=\"id\", color=\"author.username\", title=\"Num Tweets by Hour\")\n",
    "fig.show()"
   ]
  }
 ],
 "metadata": {
  "kernelspec": {
   "display_name": "Python 3 (ipykernel)",
   "language": "python",
   "name": "python3"
  },
  "language_info": {
   "codemirror_mode": {
    "name": "ipython",
    "version": 3
   },
   "file_extension": ".py",
   "mimetype": "text/x-python",
   "name": "python",
   "nbconvert_exporter": "python",
   "pygments_lexer": "ipython3",
   "version": "3.10.0"
  }
 },
 "nbformat": 4,
 "nbformat_minor": 5
}
