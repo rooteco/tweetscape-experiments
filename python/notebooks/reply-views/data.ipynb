{
 "cells": [
  {
   "cell_type": "markdown",
   "id": "9d8fbe3c-b13b-4391-88e4-52f435b2810f",
   "metadata": {},
   "source": [
    "## Pulling tweet data for twitter user analysis\n",
    "\n",
    "I want to see how different peoples' follows behave differently and if it correlates with their experience \n",
    "\n"
   ]
  },
  {
   "cell_type": "code",
   "execution_count": null,
   "id": "2b1fb199-0c04-46ac-a9d1-58e20341d360",
   "metadata": {},
   "outputs": [],
   "source": [
    "import pandas as pd\n",
    "from twarc import Twarc2, expansions\n",
    "from twarc_csv import DataFrameConverter, CSVConverter\n"
   ]
  },
  {
   "cell_type": "code",
   "execution_count": null,
   "id": "cfd497ad-30fa-4aa3-b22d-17222cfef6e8",
   "metadata": {},
   "outputs": [],
   "source": [
    "## Get dates for a 24 hour window to pass to twarc2 timeline command\n",
    "from datetime import datetime, timezone, timedelta\n",
    "\n",
    "def get_time_interval(hours=24):\n",
    "    \"\"\"\n",
    "    Return EndTime, StartTime, from current time\n",
    "    \"\"\"\n",
    "    now = datetime.now(timezone.utc)\n",
    "    (now - timedelta(hours=24)).isoformat(\"T\")[:-3] + \"Z\"\n",
    "    return now.isoformat(\"T\")[:-13]+\"Z\",  (now - timedelta(hours=24)).isoformat(\"T\")[:-13] + \"Z\"\n",
    "\n",
    "\n",
    "#YYYY-MM-DDTHH:mm:ssZ"
   ]
  },
  {
   "cell_type": "code",
   "execution_count": null,
   "id": "cc159cc2-6389-49bf-8931-3e07e96693d1",
   "metadata": {},
   "outputs": [],
   "source": [
    "end_time, start_time = get_time_interval()\n",
    "end_time"
   ]
  },
  {
   "cell_type": "code",
   "execution_count": null,
   "id": "32a81a21-f9e2-4ced-9e39-9f9c0216f389",
   "metadata": {},
   "outputs": [],
   "source": [
    "## Get a users following users\n",
    "\n",
    "USER = \"nicktorba\" \n",
    "\n",
    "current_time, _ = get_time_interval()\n",
    "\n",
    "FOLLOWING_DIR = f\"{USER}/following\"\n",
    "\n",
    "client = Twarc2(\n",
    "    consumer_key=\"Zz4fBlLrWc8VWAqpN3BNUnjHx\", \n",
    "    consumer_secret=\"A60T0PHokfGVO2yWyMjEm0uy4nl0zX5l3RLwOa8sN703Ir7UK1\",\n",
    "    access_token=\"1381389740616908801-R2eZlK4Q8LoVOCz9XcfLhOf24gf1hp\", \n",
    "    access_token_secret=\"kVYukPdOOfDyb85O3dO3feyivWlRmYZkY93EaErV2OIPS\"\n",
    ")\n",
    "\n",
    "res = client.following(\"nicktorba\")\n",
    "res = next(res)\n",
    "df_following = DataFrameConverter(\"users\").process(res[\"data\"])\n",
    "print(df_following.shape)\n",
    "df_following.to_csv(f\"{FOLLOWING_DIR}/following-{end_time}.csv\")"
   ]
  },
  {
   "cell_type": "code",
   "execution_count": null,
   "id": "48f111ab-ed88-450e-8d69-2769077746c7",
   "metadata": {},
   "outputs": [],
   "source": [
    "df = None\n",
    "converter = DataFrameConverter(\"tweets\", inline_referenced_tweets=True) #includes \"included\" tweets, aka referenced tweets\n",
    "for id_ in df_following[\"id\"].tolist():\n",
    "    timeline_gen = client.timeline(id_, start_time=start_time, end_time=end_time)\n",
    "    for res in timeline_gen:\n",
    "        df_next = converter.process([res])\n",
    "        if df is None:\n",
    "            df = df_next\n",
    "        else: \n",
    "            df = pd.concat([df, df_next])\n",
    "\n",
    "data_fpath = f\"nicktorba/tweets/following-tweets-{start_time}--{end_time}.csv\"\n",
    "print(df.shape)\n",
    "df.to_csv(data_fpath)"
   ]
  },
  {
   "cell_type": "code",
   "execution_count": null,
   "id": "3fc9c9c6-02d5-44d6-82e2-296fdaf948a9",
   "metadata": {},
   "outputs": [],
   "source": [
    "# !twarc2 timelines nicktorba/following-ids.txt nicktorba/tweets/following-tweets-2022-06-06015:22:33.932965+00:00--2022-06-07-15:22:33.932965+00:00V222.json --start-time 2022-06-06T15:22:33\n"
   ]
  },
  {
   "cell_type": "code",
   "execution_count": null,
   "id": "8cda0089-5c1e-460b-bdde-9f34cf8054f8",
   "metadata": {},
   "outputs": [],
   "source": [
    "import json \n",
    "with open(\"nicktorba/tweets/following-tweets-2022-06-06015:22:33.932965+00:00--2022-06-07-15:22:33.932965+00:00V222.json\", \"r\") as f:\n",
    "    d = f.readlines()\n",
    "\n",
    "d = json.loads(d[0])\n",
    "d[\"data\"][0]"
   ]
  },
  {
   "cell_type": "code",
   "execution_count": null,
   "id": "deab50b5-9a0d-4477-a175-7396ef618ab1",
   "metadata": {},
   "outputs": [],
   "source": [
    "d[\"includes\"][\"users\"]"
   ]
  },
  {
   "cell_type": "code",
   "execution_count": null,
   "id": "2c7e1ab1-1265-4215-8a05-fee79135673d",
   "metadata": {},
   "outputs": [],
   "source": [
    "## Convert tweet data to csv with twarc2 csv plugin\n",
    "# !twarc2 csv nicktorba/tweets/following-tweets-2022-06-06015:22:33.932965+00:00--2022-06-07-15:22:33.932965+00:00V222.json nicktorba/tweets/following-tweets-2022-06-06015:22:33.932965+00:00--2022-06-07-15:22:33.932965+00:00V222.csv"
   ]
  },
  {
   "cell_type": "code",
   "execution_count": null,
   "id": "f3731245-7ad7-4eb1-bd7e-5d3ff233a275",
   "metadata": {},
   "outputs": [],
   "source": [
    "### Load Data \n",
    "# df = pd.read_csv(\"nicktorba/tweets/following-tweets-2022-06-06T07:49:51-2022-06-07T07:49:51.csv\")\n",
    "df = pd.read_csv(data_fpath)\n",
    "df[\"tweet_link\"] = df.apply(lambda row: f\"https://twitter.com/{row['author.username']}/status/{row.id}\", axis=1)\n",
    "df.loc[:, \"created_at\"] = pd.to_datetime(df.loc[:, \"created_at\"], utc=True)\n",
    "df[\"created_at.hour\"] = df[\"created_at\"].dt.floor('h')\n"
   ]
  },
  {
   "cell_type": "code",
   "execution_count": null,
   "id": "c1b1dd2c-84d8-4be6-bd22-faf80aaae273",
   "metadata": {},
   "outputs": [],
   "source": [
    "min_time = Timestamp('2022-06-13 17:37:03+0000', tz='UTC')\n"
   ]
  },
  {
   "cell_type": "code",
   "execution_count": null,
   "id": "cf20c9a8-603b-40d3-b44c-4960313b0c21",
   "metadata": {},
   "outputs": [],
   "source": [
    "from twarc import Twarc2, expansions\n",
    "import json\n",
    "\n",
    "# This is where you initialize the client with your own bearer token (replace the XXXXX with your own bearer token)\n",
    "bearer_token = \"AAAAAAAAAAAAAAAAAAAAAOIvZwEAAAAAAvVNdH%2FfRszdvwhjzFHRXco6Exc%3DoMJQzs2cOS0GNZUJZVAWOCONnYgR6ENCl41qb2pRI00DvMLzyo\"\n",
    "client = Twarc2(consumer_key=\"Zz4fBlLrWc8VWAqpN3BNUnjHx\", \n",
    "                consumer_secret=\"A60T0PHokfGVO2yWyMjEm0uy4nl0zX5l3RLwOa8sN703Ir7UK1\",\n",
    "                access_token=\"1381389740616908801-R2eZlK4Q8LoVOCz9XcfLhOf24gf1hp\", \n",
    "                access_token_secret=\"kVYukPdOOfDyb85O3dO3feyivWlRmYZkY93EaErV2OIPS\"\n",
    ")\n",
    "\n",
    "query = \"to:deepfates\"\n",
    "\n",
    "r = client.search_recent(query=query, start_time=\"2022-06-13T17:37:03Z\") #YYYY-MM-DDTHH:mm:ssZ\n",
    "                                                    "
   ]
  },
  {
   "cell_type": "code",
   "execution_count": null,
   "id": "85f6eb0c-0c07-4602-adc8-62b453f59a6e",
   "metadata": {},
   "outputs": [],
   "source": [
    "import pandas as pd \n",
    "\n",
    "results = []\n",
    "\n",
    "res = next(r)\n",
    "\n",
    "# for i in r:\n",
    "#     results.append(i)\n",
    "    "
   ]
  },
  {
   "cell_type": "code",
   "execution_count": null,
   "id": "a998db3a-69fb-406b-8988-f560e41c6b5f",
   "metadata": {},
   "outputs": [],
   "source": [
    "res[\"data\"]"
   ]
  },
  {
   "cell_type": "code",
   "execution_count": null,
   "id": "bfd5cf02-2c4e-4fa4-af16-519f0c1e2ceb",
   "metadata": {},
   "outputs": [],
   "source": [
    "len(res[\"data\"])"
   ]
  },
  {
   "cell_type": "code",
   "execution_count": null,
   "id": "0a5a4749-1664-4a8b-8e95-a52f9f1dd752",
   "metadata": {},
   "outputs": [],
   "source": [
    "res.keys()"
   ]
  },
  {
   "cell_type": "code",
   "execution_count": null,
   "id": "f851bbf1-4f33-46b7-9eee-286325517b73",
   "metadata": {},
   "outputs": [],
   "source": [
    "len(res[\"includes\"][\"tweets\"])"
   ]
  },
  {
   "cell_type": "code",
   "execution_count": null,
   "id": "d9c1618d-caa0-4860-aa90-7078e00ac2cd",
   "metadata": {},
   "outputs": [],
   "source": [
    "from twarc_csv import DataFrameConverter\n",
    "\n",
    "df = DataFrameConverter(\"tweets\").process(res[\"data\"])\n",
    "df_i = DataFrameConverter(\"tweets\").process(res[\"includes\"][\"tweets\"])\n",
    "df_users = DataFrameConverter(\"users\").process(res[\"includes\"][\"users\"])\n",
    "\n",
    "df_users.head()"
   ]
  },
  {
   "cell_type": "code",
   "execution_count": null,
   "id": "6ee099db-28a0-460e-858d-0ae75443b9c3",
   "metadata": {},
   "outputs": [],
   "source": [
    "res[\"includes\"][\"users\"]"
   ]
  },
  {
   "cell_type": "code",
   "execution_count": null,
   "id": "3e3d3d3d-50a4-4e11-b8e8-418629355b4c",
   "metadata": {},
   "outputs": [],
   "source": [
    "import twarc_csv\n",
    "\n",
    "dir(twarc_csv)"
   ]
  },
  {
   "cell_type": "code",
   "execution_count": null,
   "id": "4106a650-e07a-423e-8b58-70a169583533",
   "metadata": {},
   "outputs": [],
   "source": []
  }
 ],
 "metadata": {
  "kernelspec": {
   "display_name": "Python 3 (ipykernel)",
   "language": "python",
   "name": "python3"
  },
  "language_info": {
   "codemirror_mode": {
    "name": "ipython",
    "version": 3
   },
   "file_extension": ".py",
   "mimetype": "text/x-python",
   "name": "python",
   "nbconvert_exporter": "python",
   "pygments_lexer": "ipython3",
   "version": "3.10.0"
  }
 },
 "nbformat": 4,
 "nbformat_minor": 5
}
