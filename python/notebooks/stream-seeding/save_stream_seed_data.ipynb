{
 "cells": [
  {
   "cell_type": "markdown",
   "id": "0e05e103-2643-478c-9bc4-d3aeb409767a",
   "metadata": {},
   "source": [
    "## Store Data for the streams you want to investigate\n",
    "\n",
    "\n",
    "#### Tweet_processing.\n",
    "\n",
    "This uses utility code stored in `tweetscape-experiments/python/tweet_processing`\n",
    "This utility library will mold as we do more experiments.\n",
    "\n",
    "### Storing Stream Seed Data\n",
    "Data for each group will be stored in the `data/` directory, in a directory titled by group name. \n",
    "\n",
    "**direcotry structure for each group**:\n",
    "* `data/group_name/following.csv`: df of accounts followed by user. Grouped by column `referencer.username`\n",
    "* `data/group_name/tweets.csv`: df of tweets from these users in group. Group by `author.id` or `author.username`\n",
    "* `data/group_name/ref_tweets.csv`: df of tweets referenced in df_tweets. Group by column `referencer.username` \n",
    "\n",
    "\n",
    "This code users twarc to fetch and process data. You can instantiate your twarc client with the following code: "
   ]
  },
  {
   "cell_type": "markdown",
   "id": "870db5d0-d0ee-4a24-88a6-c6fe6c0749a4",
   "metadata": {},
   "source": [
    "## Additional Features \n",
    "Tweet_Processing adds on some additional features to the data while processing. They are here (line 54 in tweet_processing/tweet_processing.py): \n",
    "```python\n",
    "df_[\"entities.mentions.usernames\"] = df_[\"entities.mentions\"].apply(extract_usernames)\n",
    "df_[\"entities.mentions.num_mentions\"] = df_[\"entities.mentions\"].apply(extract_num_mentions)\n",
    "df_[\"entities.mentions.double_mention\"] = df_[\"entities.mentions\"].apply(extract_double_mention)\n",
    "df_[\"tweet_type\"] = df_.apply(lambda x: extract_tweet_type(x), axis=1)\n",
    "df_[\"tweet_link\"] = df_.apply(lambda row: f\"https://twitter.com/{row['author.username']}/status/{row.id}\", axis=1)\n",
    "df_.loc[:, \"created_at\"] = pd.to_datetime(df_.loc[:, \"created_at\"], utc=True)\n",
    "df_[\"created_at.hour\"] = df_[\"created_at\"].dt.floor('h')\n",
    "```\n",
    "Each of those function is defined in the tweet_processing library. More documentation to come"
   ]
  },
  {
   "cell_type": "code",
   "execution_count": 1,
   "id": "40fb5462-811e-4ea7-a577-b04ef14ae0b8",
   "metadata": {},
   "outputs": [],
   "source": [
    "import os\n",
    "from tweet_processing import StreamTweetProcessor\n",
    "from twarc import Twarc2, expansions\n",
    "\n",
    "twarc_client = Twarc2(\n",
    "    consumer_key=os.environ[\"consumer_key\"], \n",
    "    consumer_secret=os.environ[\"consumer_secret\"],\n",
    "    access_token=os.environ[\"access_token\"], \n",
    "    access_token_secret=os.environ[\"access_token_secret\"]\n",
    ")"
   ]
  },
  {
   "cell_type": "markdown",
   "id": "3902b2ac-8979-4773-b248-66c05261a92f",
   "metadata": {},
   "source": [
    "Then, instantiate a StreamTweetProcessor object with the following code: "
   ]
  },
  {
   "cell_type": "code",
   "execution_count": 2,
   "id": "bc94f02a-9e1d-407a-86a3-0ccc514d9101",
   "metadata": {},
   "outputs": [],
   "source": [
    "tp = StreamTweetProcessor(twarc_client)"
   ]
  },
  {
   "cell_type": "markdown",
   "id": "c2325247-c63c-4142-9937-64c4d86c9109",
   "metadata": {},
   "source": [
    "### Saving Data "
   ]
  },
  {
   "cell_type": "markdown",
   "id": "9d653216-1df4-4cb7-972d-dfe4e4da66c8",
   "metadata": {},
   "source": [
    "## Longevity from Pranab"
   ]
  },
  {
   "cell_type": "code",
   "execution_count": null,
   "id": "6de492bb-3c36-479e-b15c-c255bf2270f4",
   "metadata": {},
   "outputs": [],
   "source": [
    "# group_name = \"longevity-pranab\"\n",
    "# usernames = [\"ArtirKel\", \"celinehalioua\", \"LauraDeming\"]"
   ]
  },
  {
   "cell_type": "code",
   "execution_count": null,
   "id": "857b520d-1847-481f-a474-483eb2b31900",
   "metadata": {},
   "outputs": [],
   "source": [
    "df_following, df_tweets, df_ref_tweets = tp.save_stream_seed_data(group_name, usernames) # saves data in set set of files in dir `data/group_name/*`"
   ]
  },
  {
   "cell_type": "code",
   "execution_count": null,
   "id": "4a75000c-dd2f-42db-ba52-f505980d36ef",
   "metadata": {},
   "outputs": [],
   "source": [
    "## \"referencer.username\" is how to tell which data pertains to which user in the df's df_ref_tweets and df_following\n",
    "df_ref_tweets[\"referencer.username\"].value_counts(dropna=False)"
   ]
  },
  {
   "cell_type": "markdown",
   "id": "41fcb75f-4d76-430e-8299-f6f97effab0a",
   "metadata": {},
   "source": [
    "## CA-Abundance-Economy"
   ]
  },
  {
   "cell_type": "code",
   "execution_count": 3,
   "id": "024a62f9-1463-4eb9-8b18-18c1927bc4ea",
   "metadata": {},
   "outputs": [
    {
     "name": "stdout",
     "output_type": "stream",
     "text": [
      "fetching accounts followed by rklau\n",
      "fetching accounts followed by anniefryman\n",
      "fetching accounts followed by hanlonbt\n",
      "pulling tweets for user rklau\n",
      "pulling tweets for user anniefryman\n",
      "pulling tweets for user hanlonbt\n"
     ]
    },
    {
     "name": "stderr",
     "output_type": "stream",
     "text": [
      "  0%|                                                     | 0/3 [00:00<?, ?it/s]rate limit exceeded: sleeping 414.41860938072205 secs\n",
      "rate limit exceeded: sleeping 414.30955052375793 secs\n",
      "rate limit exceeded: sleeping 414.28203868865967 secs\n",
      "caught requests exception: ('Connection aborted.', RemoteDisconnected('Remote end closed connection without response'))\n",
      "caught requests exception: ('Connection aborted.', RemoteDisconnected('Remote end closed connection without response'))\n",
      "caught requests exception: ('Connection aborted.', RemoteDisconnected('Remote end closed connection without response'))\n",
      "caught requests exception: HTTPSConnectionPool(host='api.twitter.com', port=443): Pool is closed.\n",
      "caught requests exception: HTTPSConnectionPool(host='api.twitter.com', port=443): Pool is closed.\n",
      "rate limit exceeded: sleeping 790.3917622566223 secs\n",
      "rate limit exceeded: sleeping 790.3265233039856 secs\n",
      "rate limit exceeded: sleeping 790.1820945739746 secs\n",
      "caught requests exception: ('Connection aborted.', RemoteDisconnected('Remote end closed connection without response'))\n",
      "caught requests exception: ('Connection aborted.', RemoteDisconnected('Remote end closed connection without response'))\n",
      "rate limit exceeded: sleeping 777.0088851451874 secs\n",
      "rate limit exceeded: sleeping 776.6728100776672 secs\n",
      "rate limit exceeded: sleeping 776.4360020160675 secs\n",
      "caught requests exception: ('Connection aborted.', RemoteDisconnected('Remote end closed connection without response'))\n",
      "caught requests exception: ('Connection aborted.', RemoteDisconnected('Remote end closed connection without response'))\n",
      " 67%|█████████████████████████████▎              | 2/3 [37:36<15:29, 929.29s/it]caught requests exception: HTTPSConnectionPool(host='api.twitter.com', port=443): Read timed out. (read timeout=31)\n",
      "100%|████████████████████████████████████████████| 3/3 [37:59<00:00, 759.90s/it]\n"
     ]
    }
   ],
   "source": [
    "usernames = [\"rklau\", \"anniefryman\", \"hanlonbt\"]\n",
    "group_name = \"CA-Abundance-Economy\"\n",
    "df_following, df_tweets, df_ref_tweets = tp.save_stream_seed_data(group_name, usernames) # saves data in set set of files in dir `data/group_name/*`"
   ]
  },
  {
   "cell_type": "markdown",
   "id": "f996fa61-9b07-44d5-9d29-82b2457fa07f",
   "metadata": {
    "tags": []
   },
   "source": [
    "### Loading Data\n",
    "For actual use, you can load the data with the same object (useful in notebooks where you are actually doing analysis \n"
   ]
  },
  {
   "cell_type": "code",
   "execution_count": null,
   "id": "2aa3a7b5-5e35-4eb9-9d2f-97d4baa1c941",
   "metadata": {},
   "outputs": [],
   "source": [
    "df_following, df_tweets, df_ref_tweets = tp.load_stream_seed_data(group_name) \n"
   ]
  },
  {
   "cell_type": "code",
   "execution_count": null,
   "id": "8876ddf0-4b49-4108-a4f0-25c3d0e46ec8",
   "metadata": {},
   "outputs": [],
   "source": [
    "df_following[\"referencer.username\"].value_counts()"
   ]
  },
  {
   "cell_type": "code",
   "execution_count": null,
   "id": "07997d6b-4958-4a51-b350-c727815178ef",
   "metadata": {},
   "outputs": [],
   "source": []
  }
 ],
 "metadata": {
  "kernelspec": {
   "display_name": "Python 3 (ipykernel)",
   "language": "python",
   "name": "python3"
  },
  "language_info": {
   "codemirror_mode": {
    "name": "ipython",
    "version": 3
   },
   "file_extension": ".py",
   "mimetype": "text/x-python",
   "name": "python",
   "nbconvert_exporter": "python",
   "pygments_lexer": "ipython3",
   "version": "3.10.0"
  }
 },
 "nbformat": 4,
 "nbformat_minor": 5
}
