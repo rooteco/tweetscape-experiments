{
 "cells": [
  {
   "cell_type": "markdown",
   "id": "d7f4b649-4871-450c-bcf3-fb7252621630",
   "metadata": {},
   "source": [
    "# Next Tweetscape Experiment: Stream Seeding\n",
    "Fitering Methods, sorted by (my guess at) technical difficulty\n",
    "\n",
    "## Metadata methods \n",
    "How could we use seed accounts to build a good stream from a small number of accounts that is related to a particular subject. \n",
    "\n",
    "These methods will likely be too simple, but it will be interesting to see how close they can get us to something \"acceptable\" \n",
    "\n",
    "These methods are much less complex than the NLP ones. Tools like twemex are massively popular without any complex methods, so it is worth exploring how far they can take us before adding unnecessary complexity. \n",
    "\n",
    "#### Top Tweets\n",
    "* Get the top tweets from each account (relative to themselves) for a certin date range\n",
    "    * try likes, replies, rts, qts\n",
    "        * question: does a high number of replies/likes/rts/qts (any one of them significantly) signify that it is more likely they are talking about the subject matter the creator finds interesting? \n",
    "        * do these accounts have shitposts that blow up, and then they happen to talk about interesting stuff, or does their interesting stuff itself blow up\n",
    "\n",
    "#### Top Referenced Tweets\n",
    "* What tweets are these people replying to, rt'ing, and qt'ing? \n",
    "    * do they reference tweets that are of interest to the creator of the stream? \n",
    "        * my guess: quoted tweets will be of most interest\n",
    "\n",
    "\n",
    "#### Referenced Tweets Overlap\n",
    "* Which tweets are referenced by multiple of the people seeded in the stream? \n",
    "    * does this signify anything significant\n",
    "    * will this actually produce results with such a small number of people? \n",
    "\n",
    "#### Referenced Tweets with Follower/Following Overlap\n",
    "* Does account A quote a tweet by someone that Account B follows (when A and B are both in the seeding of the stream?) \n",
    "    * can we use this to grab interesting tweets? "
   ]
  },
  {
   "cell_type": "code",
   "execution_count": 1,
   "id": "45bbb627-c78f-4610-be51-123d3b990469",
   "metadata": {},
   "outputs": [],
   "source": [
    "import os\n",
    "import datetime\n",
    "from datetime import timedelta\n",
    "import pandas as pd\n",
    "import numpy as np\n",
    "from wordcloud import WordCloud\n",
    "import matplotlib.pyplot as plt\n",
    "import plotly.express as px\n",
    "\n",
    "from sqlalchemy import create_engine #importing sqlalchemy engine to create engine for the database\n",
    "\n",
    "from twarc import Twarc2, expansions\n",
    "from twarc_csv import DataFrameConverter\n",
    "\n",
    "from data import extract_double_mention, extract_num_mentions, extract_tweet_type, extract_usernames\n",
    "\n",
    "\n",
    "from dotenv import load_dotenv\n",
    "\n",
    "load_dotenv()\n",
    "\n",
    "client = Twarc2(\n",
    "    consumer_key=os.environ[\"consumer_key\"], \n",
    "    consumer_secret=os.environ[\"consumer_secret\"],\n",
    "    access_token=os.environ[\"access_token\"], \n",
    "    access_token_secret=os.environ[\"access_token_secret\"]\n",
    ")\n",
    "converter = DataFrameConverter(\"tweets\", allow_duplicates=True)"
   ]
  },
  {
   "cell_type": "markdown",
   "id": "3fa66f26-2350-4e87-9894-dc3539d064cd",
   "metadata": {},
   "source": [
    "### First Seeding: CA Abundance Economy\n",
    "* https://twitter.com/rklau \n",
    "* https://twitter.com/anniefryman \n",
    "* https://twitter.com/hanlonbt \n"
   ]
  },
  {
   "cell_type": "code",
   "execution_count": 2,
   "id": "d631411e-34cd-4817-9b82-7e177b3f5518",
   "metadata": {},
   "outputs": [],
   "source": [
    "## SAVING data locally\n",
    "from data import save_tweets\n",
    "usernames = [\"rklau\", \"anniefryman\", \"hanlonbt\"]\n",
    "group_name = \"CA-Abundance-Economy\"\n",
    "# save_tweets(usernames, group_name)"
   ]
  },
  {
   "cell_type": "code",
   "execution_count": 3,
   "id": "37d1bf3e-f784-409e-a5a3-dc6e63e301b5",
   "metadata": {},
   "outputs": [],
   "source": [
    "## LOADING DATA\n",
    "from data import load_data\n",
    "dfs = load_data(group_name)\n",
    "\n",
    "combined_tweets = []\n",
    "combined_refs = []\n",
    "\n",
    "for username, i_dfs in dfs.items():\n",
    "    ref_tweets = i_dfs[\"ref_tweets\"]\n",
    "    tweets = i_dfs[\"tweets\"]\n",
    "    ref_tweets[\"author.referencer\"] = username\n",
    "    combined_refs.append(ref_tweets)\n",
    "    combined_tweets.append(tweets)\n",
    "\n",
    "tweets = pd.concat(combined_tweets)\n",
    "ref_tweets = pd.concat(combined_refs)\n",
    "tweets.shape\n",
    "\n",
    "for df_ in [tweets, ref_tweets]:\n",
    "    df_[\"entities.mentions.usernames\"] = df_[\"entities.mentions\"].apply(extract_usernames)\n",
    "    df_[\"entities.mentions.num_mentions\"] = df_[\"entities.mentions\"].apply(extract_num_mentions)\n",
    "    df_[\"entities.mentions.double_mention\"] = df_[\"entities.mentions\"].apply(extract_double_mention)\n",
    "    df_[\"tweet_type\"] = df_.apply(lambda x: extract_tweet_type(x), axis=1)\n",
    "    df_[\"tweet_link\"] = df_.apply(lambda row: f\"https://twitter.com/{row['author.username']}/status/{row.id}\", axis=1)\n",
    "    df_.loc[:, \"created_at\"] = pd.to_datetime(df_.loc[:, \"created_at\"], utc=True)\n",
    "    df_[\"created_at.hour\"] = df_[\"created_at\"].dt.floor('h')"
   ]
  },
  {
   "cell_type": "code",
   "execution_count": 4,
   "id": "72efa304-5b13-4307-b428-7a84e7ada593",
   "metadata": {},
   "outputs": [
    {
     "data": {
      "text/plain": [
       "array(['rt', 'self-reply', 'standalone', 'reply', 'standalone,mention',\n",
       "       'self-reply,mention', 'rt,mention', 'qt', 'qt,mention',\n",
       "       'qt,self-reply', 'qt,reply', 'qt,self-reply,mention'], dtype=object)"
      ]
     },
     "execution_count": 4,
     "metadata": {},
     "output_type": "execute_result"
    }
   ],
   "source": [
    "tweets[\"tweet_type\"].unique()"
   ]
  },
  {
   "cell_type": "markdown",
   "id": "a8bf8af3-e5d7-4a96-b681-db211f6f440a",
   "metadata": {},
   "source": [
    "## TimeRange\n",
    "**define the time range to use to buil all feeds**\n",
    "\n",
    "* starting with 1 week for good sample size"
   ]
  },
  {
   "cell_type": "code",
   "execution_count": 5,
   "id": "8d81b1e5-0d89-476c-a90b-a1d070b1e377",
   "metadata": {},
   "outputs": [
    {
     "name": "stdout",
     "output_type": "stream",
     "text": [
      "start_time:  2022-07-11T19:31:05Z end_time:  2022-07-18T19:31:05Z\n",
      "latest tweet in data:  2022-07-15 11:21:04+00:00\n",
      "(54, 81)\n"
     ]
    }
   ],
   "source": [
    "from datetime import datetime, timezone\n",
    "\n",
    "def get_time_interval(hours=24):\n",
    "    \"\"\"\n",
    "    ## Get dates for a 24 hour window to pass to twarc2 timeline command\n",
    "\n",
    "    Return EndTime, StartTime, from current time\n",
    "    \"\"\"\n",
    "    now = datetime.now(timezone.utc)\n",
    "    (now - timedelta(hours=hours)).isoformat(\"T\")[:-3] + \"Z\"\n",
    "    return now.isoformat(\"T\")[:-13]+\"Z\",  (now - timedelta(hours=hours)).isoformat(\"T\")[:-13] + \"Z\"\n",
    "\n",
    "NUM_DAYS = 7\n",
    "\n",
    "end_time, start_time = get_time_interval(hours=24*NUM_DAYS)\n",
    "print(\"start_time: \", start_time, \"end_time: \", end_time)\n",
    "\n",
    "\n",
    "tweets_range = tweets[tweets[\"created_at\"] > start_time]\n",
    "\n",
    "\n",
    "print(\"latest tweet in data: \", tweets_range[\"created_at\"].max())\n",
    "print(tweets_range.shape)\n",
    "\n",
    "ref_tweets_range = ref_tweets[ref_tweets[\"created_at\"] > start_time]"
   ]
  },
  {
   "cell_type": "markdown",
   "id": "f01016cf-e5a6-4c39-94f3-15177b05eaf5",
   "metadata": {},
   "source": [
    "## Tweet Type Distribution in Range"
   ]
  },
  {
   "cell_type": "code",
   "execution_count": 6,
   "id": "000ef061-0fe7-458e-9496-195d6c5fb81d",
   "metadata": {},
   "outputs": [
    {
     "data": {
      "text/plain": [
       "rklau          30\n",
       "anniefryman    20\n",
       "hanlonbt        4\n",
       "Name: author.username, dtype: int64"
      ]
     },
     "execution_count": 6,
     "metadata": {},
     "output_type": "execute_result"
    }
   ],
   "source": [
    "tweets_range[\"author.username\"].value_counts()"
   ]
  },
  {
   "cell_type": "code",
   "execution_count": 7,
   "id": "b1d9fddd-ae73-4f5b-b00d-1776511f5833",
   "metadata": {},
   "outputs": [
    {
     "data": {
      "text/plain": [
       "0    2022-07-15 06:13:32+00:00\n",
       "1    2022-07-15 02:15:10+00:00\n",
       "2    2022-07-15 02:10:15+00:00\n",
       "3    2022-07-15 02:06:07+00:00\n",
       "4    2022-07-15 02:05:12+00:00\n",
       "5    2022-07-15 02:02:37+00:00\n",
       "6    2022-07-15 01:15:45+00:00\n",
       "7    2022-07-15 01:11:34+00:00\n",
       "8    2022-07-14 18:02:06+00:00\n",
       "9    2022-07-14 15:35:29+00:00\n",
       "10   2022-07-14 15:35:29+00:00\n",
       "11   2022-07-14 15:29:32+00:00\n",
       "12   2022-07-14 15:22:25+00:00\n",
       "13   2022-07-14 00:10:24+00:00\n",
       "14   2022-07-12 20:16:16+00:00\n",
       "15   2022-07-12 19:24:00+00:00\n",
       "16   2022-07-12 19:07:01+00:00\n",
       "17   2022-07-12 18:51:50+00:00\n",
       "18   2022-07-12 03:40:54+00:00\n",
       "19   2022-07-12 03:33:43+00:00\n",
       "Name: created_at, dtype: datetime64[ns, UTC]"
      ]
     },
     "execution_count": 7,
     "metadata": {},
     "output_type": "execute_result"
    }
   ],
   "source": [
    "tweets_range[tweets_range[\"author.username\"] == \"anniefryman\"][\"created_at\"]"
   ]
  },
  {
   "cell_type": "code",
   "execution_count": 8,
   "id": "13dd42eb-797d-46a5-a755-a47c96aa0af9",
   "metadata": {},
   "outputs": [
    {
     "data": {
      "text/plain": [
       "reply                 14\n",
       "self-reply            12\n",
       "standalone             8\n",
       "self-reply,mention     6\n",
       "rt                     4\n",
       "standalone,mention     4\n",
       "rt,mention             4\n",
       "qt                     2\n",
       "Name: tweet_type, dtype: int64"
      ]
     },
     "execution_count": 8,
     "metadata": {},
     "output_type": "execute_result"
    }
   ],
   "source": [
    "tweets_range[\"tweet_type\"].value_counts()"
   ]
  },
  {
   "cell_type": "code",
   "execution_count": 9,
   "id": "fc3ddafd-fac6-4ae2-91c5-6d4d7369a146",
   "metadata": {},
   "outputs": [
    {
     "data": {
      "text/plain": [
       "self-reply            7\n",
       "standalone            5\n",
       "reply                 4\n",
       "standalone,mention    2\n",
       "rt                    1\n",
       "self-reply,mention    1\n",
       "Name: tweet_type, dtype: int64"
      ]
     },
     "execution_count": 9,
     "metadata": {},
     "output_type": "execute_result"
    }
   ],
   "source": [
    "## user tweets distribution\n",
    "user = \"anniefryman\"\n",
    "df_ = tweets_range[tweets_range[\"author.username\"] == user]\n",
    "df_[\"tweet_type\"].value_counts()"
   ]
  },
  {
   "cell_type": "markdown",
   "id": "4c4fedb0-dcbb-4956-8902-dc1449bdfe28",
   "metadata": {},
   "source": [
    "## Standalone Tweet Feed"
   ]
  },
  {
   "cell_type": "code",
   "execution_count": 10,
   "id": "5a1cc784-ae37-4e46-ba02-0ccaf5b0c556",
   "metadata": {},
   "outputs": [],
   "source": [
    "import requests\n",
    "from IPython.display import display, Markdown\n",
    "\n",
    "class Tweet(object):\n",
    "    \"\"\"\n",
    "    This class is used to display tweets in feeds in the notebook\n",
    "    \"\"\"\n",
    "    def __init__(self, s, embed_str=False):\n",
    "        if not embed_str:\n",
    "            # Use Twitter's oEmbed API\n",
    "            # https://dev.twitter.com/web/embedded-tweets\n",
    "            api = 'https://publish.twitter.com/oembed?url={}'.format(s)\n",
    "            response = requests.get(api)\n",
    "            self.text = response.json()[\"html\"]\n",
    "        else:\n",
    "            self.text = s\n",
    "\n",
    "    def _repr_html_(self):\n",
    "        return self.text\n",
    "    \n",
    "def display_feed(tweet_links): \n",
    "    feed = \"\"\n",
    "\n",
    "    for link in tweet_links:\n",
    "        feed += Tweet(link)._repr_html_()\n",
    "\n",
    "    display(Markdown(feed))"
   ]
  },
  {
   "cell_type": "code",
   "execution_count": 11,
   "id": "cff59ffd-6ce3-4588-91f9-444b20dcc08f",
   "metadata": {},
   "outputs": [
    {
     "data": {
      "text/plain": [
       "anniefryman    7\n",
       "rklau          5\n",
       "Name: author.username, dtype: int64"
      ]
     },
     "execution_count": 11,
     "metadata": {},
     "output_type": "execute_result"
    }
   ],
   "source": [
    "## Get standalone tweets from these users\n",
    "tweets_stand = tweets_range[(tweets_range[\"tweet_type\"] == \"standalone\") | (tweets_range[\"tweet_type\"] == \"standalone,mention\")]\n",
    "\n",
    "## See how many tweets from each user\n",
    "tweets_stand[\"author.username\"].value_counts()"
   ]
  },
  {
   "cell_type": "code",
   "execution_count": 12,
   "id": "8d762a19-ed5a-4748-8595-8a30ca63e337",
   "metadata": {
    "scrolled": true,
    "tags": []
   },
   "outputs": [
    {
     "data": {
      "text/markdown": [
       "<blockquote class=\"twitter-tweet\"><p lang=\"en\" dir=\"ltr\">A clear, discrete, impactful civil rights policy that President Biden could champion is requiring that any National Historic Designation under consideration by the Department of the Interior must include a fair housing analysis, proving the designation does not run afoul of HUD.</p>&mdash; fry (@anniefryman) <a href=\"https://twitter.com/anniefryman/status/1547764186402369537?ref_src=twsrc%5Etfw\">July 15, 2022</a></blockquote>\n",
       "<script async src=\"https://platform.twitter.com/widgets.js\" charset=\"utf-8\"></script>\n",
       "<blockquote class=\"twitter-tweet\"><p lang=\"en\" dir=\"ltr\">I talked to <a href=\"https://twitter.com/urbenschneider?ref_src=twsrc%5Etfw\">@urbenschneider</a> at <a href=\"https://twitter.com/sfexaminer?ref_src=twsrc%5Etfw\">@sfexaminer</a> about the incoherent architecture and pleasant landscaping of St. Francis Wood neighborhood, and how historical preservation can be a politically correct way to maintain (or exacerbate!) racial segregation.<a href=\"https://t.co/cKURboCOX8\">https://t.co/cKURboCOX8</a></p>&mdash; fry (@anniefryman) <a href=\"https://twitter.com/anniefryman/status/1547750688377081856?ref_src=twsrc%5Etfw\">July 15, 2022</a></blockquote>\n",
       "<script async src=\"https://platform.twitter.com/widgets.js\" charset=\"utf-8\"></script>\n",
       "<blockquote class=\"twitter-tweet\"><p lang=\"en\" dir=\"ltr\">I recently got wired into a loose social community of people, through one chance friend/introduction, of ~150 people or so in San Francisco. I&#39;d say about half of the folks I&#39;ve met or talked to so far moved to the city during COVID from elsewhere in the country.</p>&mdash; fry (@anniefryman) <a href=\"https://twitter.com/anniefryman/status/1547605712192212995?ref_src=twsrc%5Etfw\">July 14, 2022</a></blockquote>\n",
       "<script async src=\"https://platform.twitter.com/widgets.js\" charset=\"utf-8\"></script>\n",
       "<blockquote class=\"twitter-tweet\"><p lang=\"en\" dir=\"ltr\">...turns out! <a href=\"https://t.co/FYXl4eQT9h\">https://t.co/FYXl4eQT9h</a></p>&mdash; fry (@anniefryman) <a href=\"https://twitter.com/anniefryman/status/1547602422989611011?ref_src=twsrc%5Etfw\">July 14, 2022</a></blockquote>\n",
       "<script async src=\"https://platform.twitter.com/widgets.js\" charset=\"utf-8\"></script>\n",
       "<blockquote class=\"twitter-tweet\"><p lang=\"zxx\" dir=\"ltr\"><a href=\"https://t.co/2n39Ypq33W\">pic.twitter.com/2n39Ypq33W</a></p>&mdash; fry (@anniefryman) <a href=\"https://twitter.com/anniefryman/status/1547372906224943105?ref_src=twsrc%5Etfw\">July 14, 2022</a></blockquote>\n",
       "<script async src=\"https://platform.twitter.com/widgets.js\" charset=\"utf-8\"></script>\n",
       "<blockquote class=\"twitter-tweet\"><p lang=\"en\" dir=\"ltr\">I talked to <a href=\"https://twitter.com/dustingardiner?ref_src=twsrc%5Etfw\">@dustingardiner</a> at the <a href=\"https://twitter.com/sfchronicle?ref_src=twsrc%5Etfw\">@sfchronicle</a> recently about what needs to be done if we want Senate Bill 9 to *actually* work at the enormous scale California&#39;s State Legislature promised.<a href=\"https://t.co/LAB2emiKhN\">https://t.co/LAB2emiKhN</a></p>&mdash; fry (@anniefryman) <a href=\"https://twitter.com/anniefryman/status/1546930348042248198?ref_src=twsrc%5Etfw\">July 12, 2022</a></blockquote>\n",
       "<script async src=\"https://platform.twitter.com/widgets.js\" charset=\"utf-8\"></script>\n",
       "<blockquote class=\"twitter-tweet\"><p lang=\"en\" dir=\"ltr\">Spent the last five days outdoors in the 105° Southern Arizona desert <br><br>Tonight my body is home sweet home 🌁 <a href=\"https://t.co/cHttx6mxjB\">pic.twitter.com/cHttx6mxjB</a></p>&mdash; fry (@anniefryman) <a href=\"https://twitter.com/anniefryman/status/1546699297495822337?ref_src=twsrc%5Etfw\">July 12, 2022</a></blockquote>\n",
       "<script async src=\"https://platform.twitter.com/widgets.js\" charset=\"utf-8\"></script>\n",
       "<blockquote class=\"twitter-tweet\"><p lang=\"en\" dir=\"ltr\">Just booked my first international travel in almost 3 years. You may be wondering if, when <a href=\"https://twitter.com/Delta?ref_src=twsrc%5Etfw\">@Delta</a> automatically verified my uploaded proof of vaccination, was I momentarily overwhelmed?<br><br>Yes. Yes I was. <a href=\"https://t.co/ljQO1RGS3d\">pic.twitter.com/ljQO1RGS3d</a></p>&mdash; Rick Klau (@rklau) <a href=\"https://twitter.com/rklau/status/1547318706681720832?ref_src=twsrc%5Etfw\">July 13, 2022</a></blockquote>\n",
       "<script async src=\"https://platform.twitter.com/widgets.js\" charset=\"utf-8\"></script>\n",
       "<blockquote class=\"twitter-tweet\"><p lang=\"en\" dir=\"ltr\">Last week was my last week at the state of California. Serving as the state’s Chief Technology Innovation Officer for the last 18 months has been a privilege, and I’ll forever be grateful for the opportunity to serve the people of California during a time of such tremendous need.</p>&mdash; Rick Klau (@rklau) <a href=\"https://twitter.com/rklau/status/1547001132047667200?ref_src=twsrc%5Etfw\">July 12, 2022</a></blockquote>\n",
       "<script async src=\"https://platform.twitter.com/widgets.js\" charset=\"utf-8\"></script>\n",
       "<blockquote class=\"twitter-tweet\"><p lang=\"en\" dir=\"ltr\">a propos of nothing, pretty sure I remember a <a href=\"https://twitter.com/bbcdoctorwho?ref_src=twsrc%5Etfw\">@bbcdoctorwho</a> episode that used audio files to brainwash an entire planet</p>&mdash; Rick Klau (@rklau) <a href=\"https://twitter.com/rklau/status/1546618236862545920?ref_src=twsrc%5Etfw\">July 11, 2022</a></blockquote>\n",
       "<script async src=\"https://platform.twitter.com/widgets.js\" charset=\"utf-8\"></script>\n",
       "<blockquote class=\"twitter-tweet\"><p lang=\"en\" dir=\"ltr\">someone file a FOIA request to make sure that the composer of this little ditty isn&#39;t the NASA Public Information Officer&#39;s nephew and this isn&#39;t all just a royalty ploy</p>&mdash; Rick Klau (@rklau) <a href=\"https://twitter.com/rklau/status/1546615049359265792?ref_src=twsrc%5Etfw\">July 11, 2022</a></blockquote>\n",
       "<script async src=\"https://platform.twitter.com/widgets.js\" charset=\"utf-8\"></script>\n",
       "<blockquote class=\"twitter-tweet\"><p lang=\"zxx\" dir=\"ltr\"><a href=\"https://t.co/0gJJIPqOIm\">https://t.co/0gJJIPqOIm</a> <a href=\"https://t.co/xRL9AoAyWk\">pic.twitter.com/xRL9AoAyWk</a></p>&mdash; Rick Klau (@rklau) <a href=\"https://twitter.com/rklau/status/1546610929986465792?ref_src=twsrc%5Etfw\">July 11, 2022</a></blockquote>\n",
       "<script async src=\"https://platform.twitter.com/widgets.js\" charset=\"utf-8\"></script>\n"
      ],
      "text/plain": [
       "<IPython.core.display.Markdown object>"
      ]
     },
     "metadata": {},
     "output_type": "display_data"
    }
   ],
   "source": [
    "## Show feed of standalone tweets\n",
    "display_feed(tweets_stand.tweet_link.tolist())"
   ]
  },
  {
   "cell_type": "markdown",
   "id": "b6cb1bee-5171-484c-989e-9f8cc303aaca",
   "metadata": {},
   "source": [
    "## All Tweets, filter by like count\n",
    "This will skew highly towards more popular accounts\n",
    "\n",
    "* only showing 1 tweet per group with the same conversation_id (threads)\n",
    "\n",
    "**I'm leaving rt's for now, but that could be annoying...**"
   ]
  },
  {
   "cell_type": "code",
   "execution_count": 13,
   "id": "ae47c2c2-1316-483b-8e00-65943778ba87",
   "metadata": {},
   "outputs": [
    {
     "name": "stdout",
     "output_type": "stream",
     "text": [
      "self-reply            11\n",
      "standalone             6\n",
      "self-reply,mention     5\n",
      "rt                     3\n",
      "standalone,mention     3\n",
      "rt,mention             3\n",
      "reply                  1\n",
      "Name: tweet_type, dtype: int64\n"
     ]
    },
    {
     "data": {
      "text/plain": [
       "rklau          17\n",
       "anniefryman    13\n",
       "hanlonbt        2\n",
       "Name: author.username, dtype: int64"
      ]
     },
     "execution_count": 13,
     "metadata": {},
     "output_type": "execute_result"
    }
   ],
   "source": [
    "minimum_likes = 10\n",
    "tweets_min_likes = tweets_range[tweets_range[\"public_metrics.like_count\"] > minimum_likes]\n",
    "tweets_min_likes = tweets_range[tweets_range[\"public_metrics.like_count\"] > minimum_likes]\n",
    "print(tweets_min_likes[\"tweet_type\"].value_counts())\n",
    "tweets_min_likes[\"author.username\"].value_counts()"
   ]
  },
  {
   "cell_type": "code",
   "execution_count": 14,
   "id": "0d8fb4f0-548c-4da7-a992-b216d2922c78",
   "metadata": {},
   "outputs": [],
   "source": [
    "annie = tweets_min_likes[tweets_min_likes[\"author.username\"] == \"anniefryman\"]\n",
    "rklau = tweets_min_likes[tweets_min_likes[\"author.username\"] == \"rklau\"]"
   ]
  },
  {
   "cell_type": "code",
   "execution_count": 15,
   "id": "bfd18649-d667-408c-b8d8-04aa560aeb0a",
   "metadata": {},
   "outputs": [
    {
     "data": {
      "text/plain": [
       "(1,)"
      ]
     },
     "execution_count": 15,
     "metadata": {},
     "output_type": "execute_result"
    }
   ],
   "source": [
    "rklau[rklau[\"tweet_type\"]==\"reply\"].conversation_id.unique().shape"
   ]
  },
  {
   "cell_type": "code",
   "execution_count": 16,
   "id": "74cda25b-1b2d-4229-96fc-6c9fa8ede61d",
   "metadata": {},
   "outputs": [
    {
     "name": "stdout",
     "output_type": "stream",
     "text": [
      "https://twitter.com/rklau/status/1547319569823346693 1547319131585798144\n"
     ]
    }
   ],
   "source": [
    "for link, conv_id in zip(rklau[rklau[\"tweet_type\"]==\"reply\"].tweet_link.tolist(), rklau[rklau[\"tweet_type\"]==\"reply\"].conversation_id.tolist()):\n",
    "    print(link, conv_id)"
   ]
  },
  {
   "cell_type": "code",
   "execution_count": 17,
   "id": "0d6a3542-7d80-4ee3-b900-056b55fdff48",
   "metadata": {},
   "outputs": [
    {
     "name": "stdout",
     "output_type": "stream",
     "text": [
      "(32, 81)\n"
     ]
    },
    {
     "data": {
      "text/plain": [
       "(16,)"
      ]
     },
     "execution_count": 17,
     "metadata": {},
     "output_type": "execute_result"
    }
   ],
   "source": [
    "print(tweets_min_likes.shape)\n",
    "tweets_min_likes.conversation_id.unique().shape"
   ]
  },
  {
   "cell_type": "code",
   "execution_count": 18,
   "id": "37c0f598-51a7-4b3f-a96b-fe99ddf160d2",
   "metadata": {},
   "outputs": [],
   "source": [
    "def get_earliest(group):\n",
    "    earliest = group[\"created_at\"].min()\n",
    "    return group[group[\"created_at\"] == group[\"created_at\"].min()].iloc[:1] # randomly choose if there is more than one, for now. breaks for threads tweeted all at once...\n",
    "                 \n",
    "starts = tweets_min_likes.groupby(\"conversation_id\").apply(lambda x: get_earliest(x))\n"
   ]
  },
  {
   "cell_type": "code",
   "execution_count": 19,
   "id": "7979ca6b-1402-4d9e-a534-344eade63de5",
   "metadata": {
    "scrolled": true,
    "tags": []
   },
   "outputs": [
    {
     "data": {
      "text/markdown": [
       "<blockquote class=\"twitter-tweet\"><p lang=\"en\" dir=\"ltr\">&quot;The most important question is: How can we guarantee that every person has a permanent, safe, accessible home?&quot; <a href=\"https://twitter.com/hashtag/housingisahumanright?src=hash&amp;ref_src=twsrc%5Etfw\">#housingisahumanright</a><br><br>by: <a href=\"https://twitter.com/hanlonbt?ref_src=twsrc%5Etfw\">@hanlonbt</a> <a href=\"https://twitter.com/resnikoff?ref_src=twsrc%5Etfw\">@resnikoff</a> <a href=\"https://twitter.com/jbwashing?ref_src=twsrc%5Etfw\">@jbwashing</a> <a href=\"https://twitter.com/taraghuveer?ref_src=twsrc%5Etfw\">@taraghuveer</a> | <a href=\"https://twitter.com/thenation?ref_src=twsrc%5Etfw\">@thenation</a> <a href=\"https://t.co/tAfbCERRzW\">https://t.co/tAfbCERRzW</a></p>&mdash; Family Promise (@fpnational) <a href=\"https://twitter.com/fpnational/status/1546256700981780480?ref_src=twsrc%5Etfw\">July 10, 2022</a></blockquote>\n",
       "<script async src=\"https://platform.twitter.com/widgets.js\" charset=\"utf-8\"></script>\n",
       "<blockquote class=\"twitter-tweet\"><p lang=\"en\" dir=\"ltr\">someone file a FOIA request to make sure that the composer of this little ditty isn&#39;t the NASA Public Information Officer&#39;s nephew and this isn&#39;t all just a royalty ploy</p>&mdash; Rick Klau (@rklau) <a href=\"https://twitter.com/rklau/status/1546615049359265792?ref_src=twsrc%5Etfw\">July 11, 2022</a></blockquote>\n",
       "<script async src=\"https://platform.twitter.com/widgets.js\" charset=\"utf-8\"></script>\n",
       "<blockquote class=\"twitter-tweet\"><p lang=\"en\" dir=\"ltr\">Spent the last five days outdoors in the 105° Southern Arizona desert <br><br>Tonight my body is home sweet home 🌁 <a href=\"https://t.co/cHttx6mxjB\">pic.twitter.com/cHttx6mxjB</a></p>&mdash; fry (@anniefryman) <a href=\"https://twitter.com/anniefryman/status/1546699297495822337?ref_src=twsrc%5Etfw\">July 12, 2022</a></blockquote>\n",
       "<script async src=\"https://platform.twitter.com/widgets.js\" charset=\"utf-8\"></script>\n",
       "<blockquote class=\"twitter-tweet\"><p lang=\"en\" dir=\"ltr\">I talked to <a href=\"https://twitter.com/dustingardiner?ref_src=twsrc%5Etfw\">@dustingardiner</a> at the <a href=\"https://twitter.com/sfchronicle?ref_src=twsrc%5Etfw\">@sfchronicle</a> recently about what needs to be done if we want Senate Bill 9 to *actually* work at the enormous scale California&#39;s State Legislature promised.<a href=\"https://t.co/LAB2emiKhN\">https://t.co/LAB2emiKhN</a></p>&mdash; fry (@anniefryman) <a href=\"https://twitter.com/anniefryman/status/1546930348042248198?ref_src=twsrc%5Etfw\">July 12, 2022</a></blockquote>\n",
       "<script async src=\"https://platform.twitter.com/widgets.js\" charset=\"utf-8\"></script>\n",
       "<blockquote class=\"twitter-tweet\"><p lang=\"en\" dir=\"ltr\">Last week was my last week at the state of California. Serving as the state’s Chief Technology Innovation Officer for the last 18 months has been a privilege, and I’ll forever be grateful for the opportunity to serve the people of California during a time of such tremendous need.</p>&mdash; Rick Klau (@rklau) <a href=\"https://twitter.com/rklau/status/1547001132047667200?ref_src=twsrc%5Etfw\">July 12, 2022</a></blockquote>\n",
       "<script async src=\"https://platform.twitter.com/widgets.js\" charset=\"utf-8\"></script>\n",
       "<blockquote class=\"twitter-tweet\"><p lang=\"en\" dir=\"ltr\">I still have this kind note and challenge coin you gave me last year; it captures your leadership style so well! ❤️ It was an honor working with you in CA &amp; watching your team blossom.🏵 Thank you for everything &amp; excited to hear about your next adventure!<a href=\"https://twitter.com/hashtag/OneTeam?src=hash&amp;ref_src=twsrc%5Etfw\">#OneTeam</a>🐻 <a href=\"https://t.co/h540BjlWdZ\">pic.twitter.com/h540BjlWdZ</a></p>&mdash; AngieQ (@abquirarte) <a href=\"https://twitter.com/abquirarte/status/1547051132643528704?ref_src=twsrc%5Etfw\">July 13, 2022</a></blockquote>\n",
       "<script async src=\"https://platform.twitter.com/widgets.js\" charset=\"utf-8\"></script>\n",
       "<blockquote class=\"twitter-tweet\"><p lang=\"en\" dir=\"ltr\">Just booked my first international travel in almost 3 years. You may be wondering if, when <a href=\"https://twitter.com/Delta?ref_src=twsrc%5Etfw\">@Delta</a> automatically verified my uploaded proof of vaccination, was I momentarily overwhelmed?<br><br>Yes. Yes I was. <a href=\"https://t.co/ljQO1RGS3d\">pic.twitter.com/ljQO1RGS3d</a></p>&mdash; Rick Klau (@rklau) <a href=\"https://twitter.com/rklau/status/1547318706681720832?ref_src=twsrc%5Etfw\">July 13, 2022</a></blockquote>\n",
       "<script async src=\"https://platform.twitter.com/widgets.js\" charset=\"utf-8\"></script>\n",
       "<blockquote class=\"twitter-tweet\"><p lang=\"en\" dir=\"ltr\">amazing! (Hope you and the car are ok!)</p>&mdash; Rick Klau (@rklau) <a href=\"https://twitter.com/rklau/status/1547319569823346693?ref_src=twsrc%5Etfw\">July 13, 2022</a></blockquote>\n",
       "<script async src=\"https://platform.twitter.com/widgets.js\" charset=\"utf-8\"></script>\n",
       "<blockquote class=\"twitter-tweet\"><p lang=\"en\" dir=\"ltr\">If you have ever wondered if you can have a massive impact, check out the great work of <a href=\"https://twitter.com/rklau?ref_src=twsrc%5Etfw\">@rklau</a> and the incredible civil servants at CA Dept of Tech <a href=\"https://t.co/vDbzzVvdrw\">https://t.co/vDbzzVvdrw</a></p>&mdash; dj patil (@dpatil) <a href=\"https://twitter.com/dpatil/status/1547067260929560576?ref_src=twsrc%5Etfw\">July 13, 2022</a></blockquote>\n",
       "<script async src=\"https://platform.twitter.com/widgets.js\" charset=\"utf-8\"></script>\n",
       "<blockquote class=\"twitter-tweet\"><p lang=\"en\" dir=\"ltr\">Rick has done some absolutely phenomenal work in California, and is a great example of the good that can come from smart technologists going to work in government. <a href=\"https://t.co/sQW3gyDINT\">https://t.co/sQW3gyDINT</a></p>&mdash; Mike Sager 🇺🇦 (@msager) <a href=\"https://twitter.com/msager/status/1547061923493150721?ref_src=twsrc%5Etfw\">July 13, 2022</a></blockquote>\n",
       "<script async src=\"https://platform.twitter.com/widgets.js\" charset=\"utf-8\"></script>\n",
       "<blockquote class=\"twitter-tweet\"><p lang=\"en\" dir=\"ltr\">...turns out! <a href=\"https://t.co/FYXl4eQT9h\">https://t.co/FYXl4eQT9h</a></p>&mdash; fry (@anniefryman) <a href=\"https://twitter.com/anniefryman/status/1547602422989611011?ref_src=twsrc%5Etfw\">July 14, 2022</a></blockquote>\n",
       "<script async src=\"https://platform.twitter.com/widgets.js\" charset=\"utf-8\"></script>\n",
       "<blockquote class=\"twitter-tweet\"><p lang=\"en\" dir=\"ltr\">Most are in their mid- to late-  20s and looking to build their lives in the city, at least medium term, and have been really proactive about building community here: starting coliving spaces, open community spaces, etc.<br><br>It&#39;s neat to see narrative violations in the wild.</p>&mdash; fry (@anniefryman) <a href=\"https://twitter.com/anniefryman/status/1547605713412796421?ref_src=twsrc%5Etfw\">July 14, 2022</a></blockquote>\n",
       "<script async src=\"https://platform.twitter.com/widgets.js\" charset=\"utf-8\"></script>\n",
       "<blockquote class=\"twitter-tweet\"><p lang=\"en\" dir=\"ltr\">We play too many shell games in planning. Let&#39;s just actually regulate impacts and buy/build affordable housing. <a href=\"https://t.co/xMXoQxKUzO\">https://t.co/xMXoQxKUzO</a></p>&mdash; M. Nolan Gray (@mnolangray) <a href=\"https://twitter.com/mnolangray/status/1547434964094013440?ref_src=twsrc%5Etfw\">July 14, 2022</a></blockquote>\n",
       "<script async src=\"https://platform.twitter.com/widgets.js\" charset=\"utf-8\"></script>\n",
       "<blockquote class=\"twitter-tweet\"><p lang=\"en\" dir=\"ltr\">I talked to <a href=\"https://twitter.com/urbenschneider?ref_src=twsrc%5Etfw\">@urbenschneider</a> at <a href=\"https://twitter.com/sfexaminer?ref_src=twsrc%5Etfw\">@sfexaminer</a> about the incoherent architecture and pleasant landscaping of St. Francis Wood neighborhood, and how historical preservation can be a politically correct way to maintain (or exacerbate!) racial segregation.<a href=\"https://t.co/cKURboCOX8\">https://t.co/cKURboCOX8</a></p>&mdash; fry (@anniefryman) <a href=\"https://twitter.com/anniefryman/status/1547750688377081856?ref_src=twsrc%5Etfw\">July 15, 2022</a></blockquote>\n",
       "<script async src=\"https://platform.twitter.com/widgets.js\" charset=\"utf-8\"></script>\n",
       "<blockquote class=\"twitter-tweet\"><p lang=\"en\" dir=\"ltr\">A clear, discrete, impactful civil rights policy that President Biden could champion is requiring that any National Historic Designation under consideration by the Department of the Interior must include a fair housing analysis, proving the designation does not run afoul of HUD.</p>&mdash; fry (@anniefryman) <a href=\"https://twitter.com/anniefryman/status/1547764186402369537?ref_src=twsrc%5Etfw\">July 15, 2022</a></blockquote>\n",
       "<script async src=\"https://platform.twitter.com/widgets.js\" charset=\"utf-8\"></script>\n",
       "<blockquote class=\"twitter-tweet\"><p lang=\"en\" dir=\"ltr\">One way to keep cars from using bus lanes as express or passing lanes is grass.  Buses are wide enough to straddle the grass, while cars can&#39;t. <a href=\"https://t.co/ODQZECUC2z\">https://t.co/ODQZECUC2z</a> <a href=\"https://t.co/n6ZL134ZrS\">pic.twitter.com/n6ZL134ZrS</a></p>&mdash; Alfred Twu (@alfred_twu) <a href=\"https://twitter.com/alfred_twu/status/1536834900598341634?ref_src=twsrc%5Etfw\">June 14, 2022</a></blockquote>\n",
       "<script async src=\"https://platform.twitter.com/widgets.js\" charset=\"utf-8\"></script>\n"
      ],
      "text/plain": [
       "<IPython.core.display.Markdown object>"
      ]
     },
     "metadata": {},
     "output_type": "display_data"
    }
   ],
   "source": [
    "display_feed(tweets_min_likes.groupby(\"conversation_id\").apply(lambda x: get_earliest(x)).tweet_link.tolist())"
   ]
  },
  {
   "cell_type": "markdown",
   "id": "5fde0f5f-0a3f-423a-8d8e-22db0be72e95",
   "metadata": {},
   "source": [
    "## All Tweets, filter by like percentile\n",
    "Shows top N percentile of tweets by like count for each user"
   ]
  },
  {
   "cell_type": "code",
   "execution_count": 22,
   "id": "64643e37-69fe-47c6-bef1-c99a373a729d",
   "metadata": {},
   "outputs": [
    {
     "name": "stdout",
     "output_type": "stream",
     "text": [
      "(54, 81)\n"
     ]
    },
    {
     "data": {
      "text/plain": [
       "(14, 81)"
      ]
     },
     "execution_count": 22,
     "metadata": {},
     "output_type": "execute_result"
    }
   ],
   "source": [
    "npercentile = 0.75\n",
    "\n",
    "def filter_by_quantile(group):\n",
    "    thresh = group[\"public_metrics.like_count\"].quantile(0.75)\n",
    "    return group[group[\"public_metrics.like_count\"] > thresh]\n",
    "\n",
    "tweets_quantile = tweets_range.groupby([\"author.username\"]).apply(lambda x: filter_by_quantile(x))\n",
    "\n",
    "print(tweets_range.shape)\n",
    "tweets_quantile.shape"
   ]
  },
  {
   "cell_type": "code",
   "execution_count": 21,
   "id": "ee52e81b-78eb-4e33-bcb4-79b62a99ec9a",
   "metadata": {
    "scrolled": true,
    "tags": []
   },
   "outputs": [
    {
     "data": {
      "text/markdown": [
       "<blockquote class=\"twitter-tweet\"><p lang=\"en\" dir=\"ltr\">One way to keep cars from using bus lanes as express or passing lanes is grass.  Buses are wide enough to straddle the grass, while cars can&#39;t. <a href=\"https://t.co/ODQZECUC2z\">https://t.co/ODQZECUC2z</a> <a href=\"https://t.co/n6ZL134ZrS\">pic.twitter.com/n6ZL134ZrS</a></p>&mdash; Alfred Twu (@alfred_twu) <a href=\"https://twitter.com/alfred_twu/status/1536834900598341634?ref_src=twsrc%5Etfw\">June 14, 2022</a></blockquote>\n",
       "<script async src=\"https://platform.twitter.com/widgets.js\" charset=\"utf-8\"></script>\n",
       "<blockquote class=\"twitter-tweet\"><p lang=\"en\" dir=\"ltr\">What this means: <br><br>If you want to become a national historic district, you have to prove that it won’t promote or maintain racial segregation<br><br>California should do this too</p>&mdash; fry (@anniefryman) <a href=\"https://twitter.com/anniefryman/status/1547766692893233155?ref_src=twsrc%5Etfw\">July 15, 2022</a></blockquote>\n",
       "<script async src=\"https://platform.twitter.com/widgets.js\" charset=\"utf-8\"></script>\n",
       "<blockquote class=\"twitter-tweet\"><p lang=\"en\" dir=\"ltr\">A clear, discrete, impactful civil rights policy that President Biden could champion is requiring that any National Historic Designation under consideration by the Department of the Interior must include a fair housing analysis, proving the designation does not run afoul of HUD.</p>&mdash; fry (@anniefryman) <a href=\"https://twitter.com/anniefryman/status/1547764186402369537?ref_src=twsrc%5Etfw\">July 15, 2022</a></blockquote>\n",
       "<script async src=\"https://platform.twitter.com/widgets.js\" charset=\"utf-8\"></script>\n",
       "<blockquote class=\"twitter-tweet\"><p lang=\"en\" dir=\"ltr\">I talked to <a href=\"https://twitter.com/dustingardiner?ref_src=twsrc%5Etfw\">@dustingardiner</a> at the <a href=\"https://twitter.com/sfchronicle?ref_src=twsrc%5Etfw\">@sfchronicle</a> recently about what needs to be done if we want Senate Bill 9 to *actually* work at the enormous scale California&#39;s State Legislature promised.<a href=\"https://t.co/LAB2emiKhN\">https://t.co/LAB2emiKhN</a></p>&mdash; fry (@anniefryman) <a href=\"https://twitter.com/anniefryman/status/1546930348042248198?ref_src=twsrc%5Etfw\">July 12, 2022</a></blockquote>\n",
       "<script async src=\"https://platform.twitter.com/widgets.js\" charset=\"utf-8\"></script>\n",
       "<blockquote class=\"twitter-tweet\"><p lang=\"en\" dir=\"ltr\">Spent the last five days outdoors in the 105° Southern Arizona desert <br><br>Tonight my body is home sweet home 🌁 <a href=\"https://t.co/cHttx6mxjB\">pic.twitter.com/cHttx6mxjB</a></p>&mdash; fry (@anniefryman) <a href=\"https://twitter.com/anniefryman/status/1546699297495822337?ref_src=twsrc%5Etfw\">July 12, 2022</a></blockquote>\n",
       "<script async src=\"https://platform.twitter.com/widgets.js\" charset=\"utf-8\"></script>\n",
       "<blockquote class=\"twitter-tweet\"><p lang=\"en\" dir=\"ltr\">We play too many shell games in planning. Let&#39;s just actually regulate impacts and buy/build affordable housing. <a href=\"https://t.co/xMXoQxKUzO\">https://t.co/xMXoQxKUzO</a></p>&mdash; M. Nolan Gray (@mnolangray) <a href=\"https://twitter.com/mnolangray/status/1547434964094013440?ref_src=twsrc%5Etfw\">July 14, 2022</a></blockquote>\n",
       "<script async src=\"https://platform.twitter.com/widgets.js\" charset=\"utf-8\"></script>\n",
       "<blockquote class=\"twitter-tweet\"><p lang=\"en\" dir=\"ltr\">If you have ever wondered if you can have a massive impact, check out the great work of <a href=\"https://twitter.com/rklau?ref_src=twsrc%5Etfw\">@rklau</a> and the incredible civil servants at CA Dept of Tech <a href=\"https://t.co/vDbzzVvdrw\">https://t.co/vDbzzVvdrw</a></p>&mdash; dj patil (@dpatil) <a href=\"https://twitter.com/dpatil/status/1547067260929560576?ref_src=twsrc%5Etfw\">July 13, 2022</a></blockquote>\n",
       "<script async src=\"https://platform.twitter.com/widgets.js\" charset=\"utf-8\"></script>\n",
       "<blockquote class=\"twitter-tweet\"><p lang=\"en\" dir=\"ltr\">amazing! (Hope you and the car are ok!)</p>&mdash; Rick Klau (@rklau) <a href=\"https://twitter.com/rklau/status/1547319569823346693?ref_src=twsrc%5Etfw\">July 13, 2022</a></blockquote>\n",
       "<script async src=\"https://platform.twitter.com/widgets.js\" charset=\"utf-8\"></script>\n",
       "<blockquote class=\"twitter-tweet\"><p lang=\"en\" dir=\"ltr\">Onward. 🙏🏻</p>&mdash; Rick Klau (@rklau) <a href=\"https://twitter.com/rklau/status/1547001844236398593?ref_src=twsrc%5Etfw\">July 12, 2022</a></blockquote>\n",
       "<script async src=\"https://platform.twitter.com/widgets.js\" charset=\"utf-8\"></script>\n",
       "<blockquote class=\"twitter-tweet\"><p lang=\"en\" dir=\"ltr\">Your state almost certainly has a digital service or its equivalent, or you could give <a href=\"https://twitter.com/USDS?ref_src=twsrc%5Etfw\">@USDS</a> a look. Your communities, your state, your country need you.</p>&mdash; Rick Klau (@rklau) <a href=\"https://twitter.com/rklau/status/1547001729438269440?ref_src=twsrc%5Etfw\">July 12, 2022</a></blockquote>\n",
       "<script async src=\"https://platform.twitter.com/widgets.js\" charset=\"utf-8\"></script>\n",
       "<blockquote class=\"twitter-tweet\"><p lang=\"en\" dir=\"ltr\">In the meantime, if you currently work in tech and wonder whether you should consider a tour of duty in government: yes, you should. Volunteer with <a href=\"https://twitter.com/USDResponse?ref_src=twsrc%5Etfw\">@USDResponse</a>. Give <a href=\"https://twitter.com/TechTalentProj?ref_src=twsrc%5Etfw\">@TechTalentProj</a> a call. Reach out to <a href=\"https://twitter.com/codeforamerica?ref_src=twsrc%5Etfw\">@codeforamerica</a>.</p>&mdash; Rick Klau (@rklau) <a href=\"https://twitter.com/rklau/status/1547001672110469120?ref_src=twsrc%5Etfw\">July 12, 2022</a></blockquote>\n",
       "<script async src=\"https://platform.twitter.com/widgets.js\" charset=\"utf-8\"></script>\n",
       "<blockquote class=\"twitter-tweet\"><p lang=\"en\" dir=\"ltr\">To everyone who supported me in this chapter of my career: thank you. Every time one of you showed me your Digital Covid Vaccination Record, you made my year. ❤️<br><br>I don’t have news to share about what’s next – that’s for another day.</p>&mdash; Rick Klau (@rklau) <a href=\"https://twitter.com/rklau/status/1547001594482372608?ref_src=twsrc%5Etfw\">July 12, 2022</a></blockquote>\n",
       "<script async src=\"https://platform.twitter.com/widgets.js\" charset=\"utf-8\"></script>\n",
       "<blockquote class=\"twitter-tweet\"><p lang=\"en\" dir=\"ltr\">I started my work at the state as a volunteer – asked to help in the early days of the state’s COVID-19 vaccination campaign. For six weeks, I worked 16 hour days, seven days a week, seeing first-hand how quickly the state could execute in the midst of a crisis.</p>&mdash; Rick Klau (@rklau) <a href=\"https://twitter.com/rklau/status/1547001394615291905?ref_src=twsrc%5Etfw\">July 12, 2022</a></blockquote>\n",
       "<script async src=\"https://platform.twitter.com/widgets.js\" charset=\"utf-8\"></script>\n",
       "<blockquote class=\"twitter-tweet\"><p lang=\"en\" dir=\"ltr\">Last week was my last week at the state of California. Serving as the state’s Chief Technology Innovation Officer for the last 18 months has been a privilege, and I’ll forever be grateful for the opportunity to serve the people of California during a time of such tremendous need.</p>&mdash; Rick Klau (@rklau) <a href=\"https://twitter.com/rklau/status/1547001132047667200?ref_src=twsrc%5Etfw\">July 12, 2022</a></blockquote>\n",
       "<script async src=\"https://platform.twitter.com/widgets.js\" charset=\"utf-8\"></script>\n"
      ],
      "text/plain": [
       "<IPython.core.display.Markdown object>"
      ]
     },
     "metadata": {},
     "output_type": "display_data"
    }
   ],
   "source": [
    "display_feed(tweets_quantile.tweet_link.tolist())"
   ]
  },
  {
   "cell_type": "code",
   "execution_count": null,
   "id": "ce0ecb56-d5e2-4366-8d01-5816b9997924",
   "metadata": {},
   "outputs": [],
   "source": []
  },
  {
   "cell_type": "code",
   "execution_count": null,
   "id": "a688b26e-aa4f-4484-85bd-d8a989f7aa3d",
   "metadata": {},
   "outputs": [],
   "source": []
  },
  {
   "cell_type": "code",
   "execution_count": null,
   "id": "5bdd58ac-0eae-4f7c-ae0b-fe00107dddc6",
   "metadata": {},
   "outputs": [],
   "source": []
  },
  {
   "cell_type": "code",
   "execution_count": null,
   "id": "9224ce45-f5da-4176-89d6-574cd80eaa24",
   "metadata": {},
   "outputs": [],
   "source": []
  }
 ],
 "metadata": {
  "kernelspec": {
   "display_name": "Python 3 (ipykernel)",
   "language": "python",
   "name": "python3"
  },
  "language_info": {
   "codemirror_mode": {
    "name": "ipython",
    "version": 3
   },
   "file_extension": ".py",
   "mimetype": "text/x-python",
   "name": "python",
   "nbconvert_exporter": "python",
   "pygments_lexer": "ipython3",
   "version": "3.10.0"
  }
 },
 "nbformat": 4,
 "nbformat_minor": 5
}
